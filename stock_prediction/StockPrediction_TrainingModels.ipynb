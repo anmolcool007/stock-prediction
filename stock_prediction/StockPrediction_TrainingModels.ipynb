{
 "cells": [
  {
   "cell_type": "code",
   "execution_count": 1,
   "metadata": {},
   "outputs": [],
   "source": [
    "import pandas as pd\n",
    "import numpy as np\n",
    "import matplotlib.pyplot as plt\n",
    "import tensorflow as tf\n",
    "from time import time"
   ]
  },
  {
   "cell_type": "code",
   "execution_count": 2,
   "metadata": {},
   "outputs": [
    {
     "data": {
      "text/html": [
       "<div>\n",
       "<style scoped>\n",
       "    .dataframe tbody tr th:only-of-type {\n",
       "        vertical-align: middle;\n",
       "    }\n",
       "\n",
       "    .dataframe tbody tr th {\n",
       "        vertical-align: top;\n",
       "    }\n",
       "\n",
       "    .dataframe thead th {\n",
       "        text-align: right;\n",
       "    }\n",
       "</style>\n",
       "<table border=\"1\" class=\"dataframe\">\n",
       "  <thead>\n",
       "    <tr style=\"text-align: right;\">\n",
       "      <th></th>\n",
       "      <th>Open</th>\n",
       "      <th>High</th>\n",
       "      <th>Low</th>\n",
       "      <th>Close</th>\n",
       "      <th>Adj Close</th>\n",
       "      <th>Volume</th>\n",
       "    </tr>\n",
       "    <tr>\n",
       "      <th>Date</th>\n",
       "      <th></th>\n",
       "      <th></th>\n",
       "      <th></th>\n",
       "      <th></th>\n",
       "      <th></th>\n",
       "      <th></th>\n",
       "    </tr>\n",
       "  </thead>\n",
       "  <tbody>\n",
       "    <tr>\n",
       "      <th>2009-09-21</th>\n",
       "      <td>25.110001</td>\n",
       "      <td>25.370001</td>\n",
       "      <td>25.100000</td>\n",
       "      <td>25.299999</td>\n",
       "      <td>19.717058</td>\n",
       "      <td>28878700</td>\n",
       "    </tr>\n",
       "    <tr>\n",
       "      <th>2009-09-22</th>\n",
       "      <td>25.400000</td>\n",
       "      <td>25.820000</td>\n",
       "      <td>25.290001</td>\n",
       "      <td>25.770000</td>\n",
       "      <td>20.083347</td>\n",
       "      <td>61376700</td>\n",
       "    </tr>\n",
       "    <tr>\n",
       "      <th>2009-09-23</th>\n",
       "      <td>25.920000</td>\n",
       "      <td>26.250000</td>\n",
       "      <td>25.639999</td>\n",
       "      <td>25.709999</td>\n",
       "      <td>20.036585</td>\n",
       "      <td>60599900</td>\n",
       "    </tr>\n",
       "    <tr>\n",
       "      <th>2009-09-24</th>\n",
       "      <td>25.920000</td>\n",
       "      <td>26.110001</td>\n",
       "      <td>25.660000</td>\n",
       "      <td>25.940001</td>\n",
       "      <td>20.215834</td>\n",
       "      <td>56302900</td>\n",
       "    </tr>\n",
       "    <tr>\n",
       "      <th>2009-09-25</th>\n",
       "      <td>25.690001</td>\n",
       "      <td>25.820000</td>\n",
       "      <td>25.520000</td>\n",
       "      <td>25.549999</td>\n",
       "      <td>19.911896</td>\n",
       "      <td>50158900</td>\n",
       "    </tr>\n",
       "    <tr>\n",
       "      <th>...</th>\n",
       "      <td>...</td>\n",
       "      <td>...</td>\n",
       "      <td>...</td>\n",
       "      <td>...</td>\n",
       "      <td>...</td>\n",
       "      <td>...</td>\n",
       "    </tr>\n",
       "    <tr>\n",
       "      <th>2020-05-24</th>\n",
       "      <td>183.190002</td>\n",
       "      <td>184.460007</td>\n",
       "      <td>182.539993</td>\n",
       "      <td>183.509995</td>\n",
       "      <td>183.509995</td>\n",
       "      <td>20826900</td>\n",
       "    </tr>\n",
       "    <tr>\n",
       "      <th>2020-05-25</th>\n",
       "      <td>183.190002</td>\n",
       "      <td>184.460007</td>\n",
       "      <td>182.539993</td>\n",
       "      <td>183.509995</td>\n",
       "      <td>183.509995</td>\n",
       "      <td>20826900</td>\n",
       "    </tr>\n",
       "    <tr>\n",
       "      <th>2020-05-26</th>\n",
       "      <td>186.339996</td>\n",
       "      <td>186.500000</td>\n",
       "      <td>181.100006</td>\n",
       "      <td>181.570007</td>\n",
       "      <td>181.570007</td>\n",
       "      <td>36073600</td>\n",
       "    </tr>\n",
       "    <tr>\n",
       "      <th>2020-05-27</th>\n",
       "      <td>180.199997</td>\n",
       "      <td>181.990005</td>\n",
       "      <td>176.600006</td>\n",
       "      <td>181.809998</td>\n",
       "      <td>181.809998</td>\n",
       "      <td>39517100</td>\n",
       "    </tr>\n",
       "    <tr>\n",
       "      <th>2020-05-28</th>\n",
       "      <td>180.740005</td>\n",
       "      <td>184.149994</td>\n",
       "      <td>180.380005</td>\n",
       "      <td>181.399994</td>\n",
       "      <td>181.399994</td>\n",
       "      <td>33810200</td>\n",
       "    </tr>\n",
       "  </tbody>\n",
       "</table>\n",
       "<p>3903 rows × 6 columns</p>\n",
       "</div>"
      ],
      "text/plain": [
       "                  Open        High         Low       Close   Adj Close  \\\n",
       "Date                                                                     \n",
       "2009-09-21   25.110001   25.370001   25.100000   25.299999   19.717058   \n",
       "2009-09-22   25.400000   25.820000   25.290001   25.770000   20.083347   \n",
       "2009-09-23   25.920000   26.250000   25.639999   25.709999   20.036585   \n",
       "2009-09-24   25.920000   26.110001   25.660000   25.940001   20.215834   \n",
       "2009-09-25   25.690001   25.820000   25.520000   25.549999   19.911896   \n",
       "...                ...         ...         ...         ...         ...   \n",
       "2020-05-24  183.190002  184.460007  182.539993  183.509995  183.509995   \n",
       "2020-05-25  183.190002  184.460007  182.539993  183.509995  183.509995   \n",
       "2020-05-26  186.339996  186.500000  181.100006  181.570007  181.570007   \n",
       "2020-05-27  180.199997  181.990005  176.600006  181.809998  181.809998   \n",
       "2020-05-28  180.740005  184.149994  180.380005  181.399994  181.399994   \n",
       "\n",
       "              Volume  \n",
       "Date                  \n",
       "2009-09-21  28878700  \n",
       "2009-09-22  61376700  \n",
       "2009-09-23  60599900  \n",
       "2009-09-24  56302900  \n",
       "2009-09-25  50158900  \n",
       "...              ...  \n",
       "2020-05-24  20826900  \n",
       "2020-05-25  20826900  \n",
       "2020-05-26  36073600  \n",
       "2020-05-27  39517100  \n",
       "2020-05-28  33810200  \n",
       "\n",
       "[3903 rows x 6 columns]"
      ]
     },
     "execution_count": 2,
     "metadata": {},
     "output_type": "execute_result"
    }
   ],
   "source": [
    "df = pd.read_csv(\"../data/MSFT_complete.csv\", parse_dates = True, index_col = 'Date')\n",
    "del df['Unnamed: 0']\n",
    "df"
   ]
  },
  {
   "cell_type": "code",
   "execution_count": 3,
   "metadata": {},
   "outputs": [
    {
     "data": {
      "text/plain": [
       "<matplotlib.axes._subplots.AxesSubplot at 0x7f597c767040>"
      ]
     },
     "execution_count": 3,
     "metadata": {},
     "output_type": "execute_result"
    },
    {
     "data": {
      "image/png": "[encoded data removed]",
      "text/plain": [
       "<Figure size 432x288 with 1 Axes>"
      ]
     },
     "metadata": {
      "needs_background": "light"
     },
     "output_type": "display_data"
    }
   ],
   "source": [
    "df['Close'].plot()"
   ]
  },
  {
   "cell_type": "code",
   "execution_count": 4,
   "metadata": {},
   "outputs": [
    {
     "data": {
      "text/plain": [
       "Open         0.999668\n",
       "High         0.999806\n",
       "Low          0.999784\n",
       "Close        1.000000\n",
       "Adj Close    0.999920\n",
       "Volume      -0.324246\n",
       "Name: Close, dtype: float64"
      ]
     },
     "execution_count": 4,
     "metadata": {},
     "output_type": "execute_result"
    }
   ],
   "source": [
    "df.corr()['Close']"
   ]
  },
  {
   "cell_type": "code",
   "execution_count": 5,
   "metadata": {},
   "outputs": [],
   "source": [
    "df.drop(columns=['Volume','Adj Close'],inplace=True)"
   ]
  },
  {
   "cell_type": "code",
   "execution_count": 59,
   "metadata": {},
   "outputs": [
    {
     "data": {
      "text/html": [
       "<div>\n",
       "<style scoped>\n",
       "    .dataframe tbody tr th:only-of-type {\n",
       "        vertical-align: middle;\n",
       "    }\n",
       "\n",
       "    .dataframe tbody tr th {\n",
       "        vertical-align: top;\n",
       "    }\n",
       "\n",
       "    .dataframe thead tr th {\n",
       "        text-align: left;\n",
       "    }\n",
       "\n",
       "    .dataframe thead tr:last-of-type th {\n",
       "        text-align: right;\n",
       "    }\n",
       "</style>\n",
       "<table border=\"1\" class=\"dataframe\">\n",
       "  <thead>\n",
       "    <tr>\n",
       "      <th></th>\n",
       "      <th>open</th>\n",
       "      <th>high</th>\n",
       "      <th>low</th>\n",
       "      <th>close</th>\n",
       "    </tr>\n",
       "    <tr>\n",
       "      <th>Date</th>\n",
       "      <th></th>\n",
       "      <th></th>\n",
       "      <th></th>\n",
       "      <th></th>\n",
       "    </tr>\n",
       "  </thead>\n",
       "  <tbody>\n",
       "    <tr>\n",
       "      <th>2009-09-21</th>\n",
       "      <td>25.110001</td>\n",
       "      <td>25.370001</td>\n",
       "      <td>25.100000</td>\n",
       "      <td>25.299999</td>\n",
       "    </tr>\n",
       "    <tr>\n",
       "      <th>2009-09-22</th>\n",
       "      <td>25.400000</td>\n",
       "      <td>25.820000</td>\n",
       "      <td>25.290001</td>\n",
       "      <td>25.770000</td>\n",
       "    </tr>\n",
       "    <tr>\n",
       "      <th>2009-09-23</th>\n",
       "      <td>25.920000</td>\n",
       "      <td>26.250000</td>\n",
       "      <td>25.639999</td>\n",
       "      <td>25.709999</td>\n",
       "    </tr>\n",
       "    <tr>\n",
       "      <th>2009-09-24</th>\n",
       "      <td>25.920000</td>\n",
       "      <td>26.110001</td>\n",
       "      <td>25.660000</td>\n",
       "      <td>25.940001</td>\n",
       "    </tr>\n",
       "    <tr>\n",
       "      <th>2009-09-25</th>\n",
       "      <td>25.690001</td>\n",
       "      <td>25.820000</td>\n",
       "      <td>25.520000</td>\n",
       "      <td>25.549999</td>\n",
       "    </tr>\n",
       "    <tr>\n",
       "      <th>...</th>\n",
       "      <td>...</td>\n",
       "      <td>...</td>\n",
       "      <td>...</td>\n",
       "      <td>...</td>\n",
       "    </tr>\n",
       "    <tr>\n",
       "      <th>2020-05-24</th>\n",
       "      <td>183.190002</td>\n",
       "      <td>184.460007</td>\n",
       "      <td>182.539993</td>\n",
       "      <td>183.509995</td>\n",
       "    </tr>\n",
       "    <tr>\n",
       "      <th>2020-05-25</th>\n",
       "      <td>183.190002</td>\n",
       "      <td>184.460007</td>\n",
       "      <td>182.539993</td>\n",
       "      <td>183.509995</td>\n",
       "    </tr>\n",
       "    <tr>\n",
       "      <th>2020-05-26</th>\n",
       "      <td>186.339996</td>\n",
       "      <td>186.500000</td>\n",
       "      <td>181.100006</td>\n",
       "      <td>181.570007</td>\n",
       "    </tr>\n",
       "    <tr>\n",
       "      <th>2020-05-27</th>\n",
       "      <td>180.199997</td>\n",
       "      <td>181.990005</td>\n",
       "      <td>176.600006</td>\n",
       "      <td>181.809998</td>\n",
       "    </tr>\n",
       "    <tr>\n",
       "      <th>2020-05-28</th>\n",
       "      <td>180.740005</td>\n",
       "      <td>184.149994</td>\n",
       "      <td>180.380005</td>\n",
       "      <td>181.399994</td>\n",
       "    </tr>\n",
       "  </tbody>\n",
       "</table>\n",
       "<p>3903 rows × 4 columns</p>\n",
       "</div>"
      ],
      "text/plain": [
       "                  open        high         low       close\n",
       "Date                                                      \n",
       "2009-09-21   25.110001   25.370001   25.100000   25.299999\n",
       "2009-09-22   25.400000   25.820000   25.290001   25.770000\n",
       "2009-09-23   25.920000   26.250000   25.639999   25.709999\n",
       "2009-09-24   25.920000   26.110001   25.660000   25.940001\n",
       "2009-09-25   25.690001   25.820000   25.520000   25.549999\n",
       "...                ...         ...         ...         ...\n",
       "2020-05-24  183.190002  184.460007  182.539993  183.509995\n",
       "2020-05-25  183.190002  184.460007  182.539993  183.509995\n",
       "2020-05-26  186.339996  186.500000  181.100006  181.570007\n",
       "2020-05-27  180.199997  181.990005  176.600006  181.809998\n",
       "2020-05-28  180.740005  184.149994  180.380005  181.399994\n",
       "\n",
       "[3903 rows x 4 columns]"
      ]
     },
     "execution_count": 59,
     "metadata": {},
     "output_type": "execute_result"
    }
   ],
   "source": [
    "df.columns = [['open', 'high', 'low','close',]]\n",
    "df"
   ]
  },
  {
   "cell_type": "code",
   "execution_count": 7,
   "metadata": {},
   "outputs": [],
   "source": [
    "from sklearn.preprocessing import MinMaxScaler\n",
    "sc = MinMaxScaler()"
   ]
  },
  {
   "cell_type": "code",
   "execution_count": 8,
   "metadata": {},
   "outputs": [],
   "source": [
    "data = sc.fit_transform(df)"
   ]
  },
  {
   "cell_type": "code",
   "execution_count": 61,
   "metadata": {},
   "outputs": [
    {
     "data": {
      "text/plain": [
       "array([[0.01205539, 0.01224759, 0.01447417, 0.01382099],\n",
       "       [0.01378611, 0.01493607, 0.01563455, 0.01665761],\n",
       "       [0.01688947, 0.01750508, 0.01777207, 0.01629549],\n",
       "       ...,\n",
       "       [0.97427788, 0.97490741, 0.96720413, 0.95696789],\n",
       "       [0.9376343 , 0.94796277, 0.93972154, 0.95841632],\n",
       "       [0.94085707, 0.96086747, 0.96280691, 0.9559418 ]])"
      ]
     },
     "execution_count": 61,
     "metadata": {},
     "output_type": "execute_result"
    }
   ],
   "source": [
    "data"
   ]
  },
  {
   "cell_type": "code",
   "execution_count": 10,
   "metadata": {},
   "outputs": [],
   "source": [
    "train_ind = int(0.6*len(df))\n",
    "val_ind = train_ind + int(0.2*len(df))"
   ]
  },
  {
   "cell_type": "code",
   "execution_count": 11,
   "metadata": {},
   "outputs": [],
   "source": [
    "train = data[:train_ind]\n",
    "val = data[train_ind:val_ind]\n",
    "test = data[val_ind:]"
   ]
  },
  {
   "cell_type": "code",
   "execution_count": 12,
   "metadata": {},
   "outputs": [
    {
     "data": {
      "text/plain": [
       "((2341, 4), (782, 4), (780, 4))"
      ]
     },
     "execution_count": 12,
     "metadata": {},
     "output_type": "execute_result"
    }
   ],
   "source": [
    "train.shape, test.shape, val.shape"
   ]
  },
  {
   "cell_type": "code",
   "execution_count": 13,
   "metadata": {},
   "outputs": [
    {
     "data": {
      "text/plain": [
       "((2341, 4), (2341,))"
      ]
     },
     "execution_count": 13,
     "metadata": {},
     "output_type": "execute_result"
    }
   ],
   "source": [
    "xtrain,ytrain,xval,yval,xtest,ytest = train[:,:4],train[:,3],val[:,:4],val[:,3],test[:,:4],test[:,3]\n",
    "xtrain.shape, ytrain.shape, "
   ]
  },
  {
   "cell_type": "code",
   "execution_count": 14,
   "metadata": {},
   "outputs": [],
   "source": [
    "lookback = 60\n",
    "n_features = 4\n",
    "output_dim = 4\n",
    "train_len = len(xtrain) - lookback\n",
    "test_len = len(xtest) - lookback\n",
    "val_len = len(xval) - lookback"
   ]
  },
  {
   "cell_type": "code",
   "execution_count": 15,
   "metadata": {},
   "outputs": [
    {
     "name": "stdout",
     "output_type": "stream",
     "text": [
      "x_train (2281, 60, 4)\n",
      "y_train (2281,)\n"
     ]
    }
   ],
   "source": [
    "x_train = np.zeros((train_len, lookback, n_features))\n",
    "y_train = np.zeros((train_len))\n",
    "for i in range(train_len):\n",
    "    ytemp = i+lookback\n",
    "    x_train[i] = xtrain[i:ytemp]\n",
    "    y_train[i] = ytrain[ytemp]\n",
    "print(\"x_train\", x_train.shape)\n",
    "print(\"y_train\", y_train.shape)"
   ]
  },
  {
   "cell_type": "code",
   "execution_count": 16,
   "metadata": {},
   "outputs": [
    {
     "name": "stdout",
     "output_type": "stream",
     "text": [
      "x_test (722, 60, 4)\n",
      "y_test (722,)\n"
     ]
    }
   ],
   "source": [
    "x_test = np.zeros((test_len, lookback, n_features))\n",
    "y_test = np.zeros((test_len))\n",
    "for i in range(test_len):\n",
    "    ytemp = i+lookback\n",
    "    x_test[i] = xtest[i:ytemp]\n",
    "    y_test[i] = ytest[ytemp]\n",
    "print(\"x_test\", x_test.shape)\n",
    "print(\"y_test\", y_test.shape)"
   ]
  },
  {
   "cell_type": "code",
   "execution_count": 17,
   "metadata": {},
   "outputs": [
    {
     "name": "stdout",
     "output_type": "stream",
     "text": [
      "x_val (720, 60, 4)\n",
      "y_val (720,)\n"
     ]
    }
   ],
   "source": [
    "x_val = np.zeros((val_len, lookback, n_features))\n",
    "y_val = np.zeros((val_len))\n",
    "for i in range(val_len):\n",
    "    ytemp = i+lookback\n",
    "    x_val[i] = xval[i:ytemp]\n",
    "    y_val[i] = yval[ytemp]\n",
    "print(\"x_val\", x_val.shape)\n",
    "print(\"y_val\", y_val.shape)\n"
   ]
  },
  {
   "cell_type": "code",
   "execution_count": 18,
   "metadata": {},
   "outputs": [
    {
     "name": "stderr",
     "output_type": "stream",
     "text": [
      "Using TensorFlow backend.\n"
     ]
    }
   ],
   "source": [
    "from keras.models import Sequential, load_model\n",
    "from keras.layers.core import Dense, Activation, Dropout, Flatten\n",
    "from keras.layers import LSTM\n",
    "from keras.optimizers import Adam\n",
    "from time import time\n",
    "from keras.callbacks import EarlyStopping"
   ]
  },
  {
   "cell_type": "code",
   "execution_count": 50,
   "metadata": {},
   "outputs": [],
   "source": [
    "model = Sequential() \n",
    "model.add(LSTM(120,input_shape = (lookback, n_features), return_sequences=True))\n",
    "model.add(LSTM(105))\n",
    "model.add(Dense(1))"
   ]
  },
  {
   "cell_type": "code",
   "execution_count": 51,
   "metadata": {},
   "outputs": [],
   "source": [
    "model.compile(loss = 'mse', optimizer = 'adam')\n",
    "earlystop = EarlyStopping(monitor='val_loss', min_delta=0.0001, patience=80,  verbose=1, mode='min')"
   ]
  },
  {
   "cell_type": "code",
   "execution_count": 52,
   "metadata": {},
   "outputs": [
    {
     "name": "stdout",
     "output_type": "stream",
     "text": [
      "start: 0\n",
      "Train on 2281 samples, validate on 720 samples\n",
      "Epoch 1/50\n",
      "2281/2281 [==============================] - 6s 3ms/step - loss: 2.4981e-04 - val_loss: 6.8158e-04\n",
      "Epoch 2/50\n",
      "2281/2281 [==============================] - 7s 3ms/step - loss: 2.2215e-04 - val_loss: 0.0015\n",
      "Epoch 3/50\n",
      "2281/2281 [==============================] - 5s 2ms/step - loss: 3.4510e-04 - val_loss: 0.0027\n",
      "Epoch 4/50\n",
      "2281/2281 [==============================] - 6s 3ms/step - loss: 4.4322e-04 - val_loss: 0.0056\n",
      "Epoch 5/50\n",
      "2281/2281 [==============================] - 9s 4ms/step - loss: 4.6592e-04 - val_loss: 0.0065\n",
      "Epoch 6/50\n",
      "2281/2281 [==============================] - 5s 2ms/step - loss: 5.9143e-04 - val_loss: 0.0086\n",
      "Epoch 7/50\n",
      "2281/2281 [==============================] - 5s 2ms/step - loss: 5.4063e-04 - val_loss: 0.0097\n",
      "Epoch 8/50\n",
      "2281/2281 [==============================] - 8s 3ms/step - loss: 6.5926e-04 - val_loss: 0.0062\n",
      "Epoch 9/50\n",
      "2281/2281 [==============================] - 6s 3ms/step - loss: 0.0011 - val_loss: 0.0063\n",
      "Epoch 10/50\n",
      "2281/2281 [==============================] - 8s 3ms/step - loss: 0.0014 - val_loss: 0.0116\n",
      "Epoch 11/50\n",
      "2281/2281 [==============================] - 7s 3ms/step - loss: 0.0012 - val_loss: 0.0074\n",
      "Epoch 12/50\n",
      "2281/2281 [==============================] - 6s 3ms/step - loss: 7.7696e-04 - val_loss: 0.0037\n",
      "Epoch 13/50\n",
      "2281/2281 [==============================] - 5s 2ms/step - loss: 4.0662e-04 - val_loss: 0.0012\n",
      "Epoch 14/50\n",
      "2281/2281 [==============================] - 10s 5ms/step - loss: 1.5327e-04 - val_loss: 4.2008e-05\n",
      "Epoch 15/50\n",
      "2281/2281 [==============================] - 6s 3ms/step - loss: 4.3198e-05 - val_loss: 4.1689e-04\n",
      "Epoch 16/50\n",
      "2281/2281 [==============================] - 7s 3ms/step - loss: 1.8799e-05 - val_loss: 2.5015e-04\n",
      "Epoch 17/50\n",
      "2281/2281 [==============================] - 7s 3ms/step - loss: 2.0126e-05 - val_loss: 2.0653e-04\n",
      "Epoch 18/50\n",
      "2281/2281 [==============================] - 7s 3ms/step - loss: 1.8053e-05 - val_loss: 1.4965e-04\n",
      "Epoch 19/50\n",
      "2281/2281 [==============================] - 9s 4ms/step - loss: 1.8443e-05 - val_loss: 1.1946e-04\n",
      "Epoch 20/50\n",
      "2281/2281 [==============================] - 8s 3ms/step - loss: 1.7463e-05 - val_loss: 9.4536e-05\n",
      "Epoch 21/50\n",
      "2281/2281 [==============================] - 6s 2ms/step - loss: 1.7468e-05 - val_loss: 7.7647e-05\n",
      "Epoch 22/50\n",
      "2281/2281 [==============================] - 7s 3ms/step - loss: 1.6972e-05 - val_loss: 6.5915e-05\n",
      "Epoch 23/50\n",
      "2281/2281 [==============================] - 6s 3ms/step - loss: 1.6816e-05 - val_loss: 5.7480e-05\n",
      "Epoch 24/50\n",
      "2281/2281 [==============================] - 6s 3ms/step - loss: 1.6525e-05 - val_loss: 5.1843e-05\n",
      "Epoch 25/50\n",
      "2281/2281 [==============================] - 6s 3ms/step - loss: 1.6327e-05 - val_loss: 4.7971e-05\n",
      "Epoch 26/50\n",
      "2281/2281 [==============================] - 5s 2ms/step - loss: 1.6115e-05 - val_loss: 4.5498e-05\n",
      "Epoch 27/50\n",
      "2281/2281 [==============================] - 5s 2ms/step - loss: 1.5924e-05 - val_loss: 4.4061e-05\n",
      "Epoch 28/50\n",
      "2281/2281 [==============================] - 5s 2ms/step - loss: 1.5741e-05 - val_loss: 4.3459e-05\n",
      "Epoch 29/50\n",
      "2281/2281 [==============================] - 5s 2ms/step - loss: 1.5568e-05 - val_loss: 4.3562e-05\n",
      "Epoch 30/50\n",
      "2281/2281 [==============================] - 5s 2ms/step - loss: 1.5404e-05 - val_loss: 4.4272e-05\n",
      "Epoch 31/50\n",
      "2281/2281 [==============================] - 5s 2ms/step - loss: 1.5248e-05 - val_loss: 4.5494e-05\n",
      "Epoch 32/50\n",
      "2281/2281 [==============================] - 5s 2ms/step - loss: 1.5101e-05 - val_loss: 4.7086e-05\n",
      "Epoch 33/50\n",
      "2281/2281 [==============================] - 5s 2ms/step - loss: 1.4962e-05 - val_loss: 4.8859e-05\n",
      "Epoch 34/50\n",
      "2281/2281 [==============================] - 5s 2ms/step - loss: 1.4830e-05 - val_loss: 5.0572e-05\n",
      "Epoch 35/50\n",
      "2281/2281 [==============================] - 5s 2ms/step - loss: 1.4705e-05 - val_loss: 5.1970e-05\n",
      "Epoch 36/50\n",
      "2281/2281 [==============================] - 5s 2ms/step - loss: 1.4584e-05 - val_loss: 5.2822e-05\n",
      "Epoch 37/50\n",
      "2281/2281 [==============================] - 5s 2ms/step - loss: 1.4468e-05 - val_loss: 5.2974e-05\n",
      "Epoch 38/50\n",
      "2281/2281 [==============================] - 5s 2ms/step - loss: 1.4356e-05 - val_loss: 5.2373e-05\n",
      "Epoch 39/50\n",
      "2281/2281 [==============================] - 5s 2ms/step - loss: 1.4249e-05 - val_loss: 5.1078e-05\n",
      "Epoch 40/50\n",
      "2281/2281 [==============================] - 5s 2ms/step - loss: 1.4146e-05 - val_loss: 4.9231e-05\n",
      "Epoch 41/50\n",
      "2281/2281 [==============================] - 5s 2ms/step - loss: 1.4050e-05 - val_loss: 4.7029e-05\n",
      "Epoch 42/50\n",
      "2281/2281 [==============================] - 6s 3ms/step - loss: 1.3963e-05 - val_loss: 4.4684e-05\n",
      "Epoch 43/50\n",
      "2281/2281 [==============================] - 6s 2ms/step - loss: 1.3886e-05 - val_loss: 4.2384e-05\n",
      "Epoch 44/50\n",
      "2281/2281 [==============================] - 5s 2ms/step - loss: 1.3821e-05 - val_loss: 4.0283e-05\n",
      "Epoch 45/50\n",
      "2281/2281 [==============================] - 6s 3ms/step - loss: 1.3771e-05 - val_loss: 3.8487e-05\n",
      "Epoch 46/50\n",
      "2281/2281 [==============================] - 6s 2ms/step - loss: 1.3736e-05 - val_loss: 3.7061e-05\n",
      "Epoch 47/50\n",
      "2281/2281 [==============================] - 6s 3ms/step - loss: 1.3719e-05 - val_loss: 3.6036e-05\n",
      "Epoch 48/50\n",
      "2281/2281 [==============================] - 5s 2ms/step - loss: 1.3720e-05 - val_loss: 3.5431e-05\n",
      "Epoch 49/50\n",
      "2281/2281 [==============================] - 5s 2ms/step - loss: 1.3741e-05 - val_loss: 3.5266e-05\n",
      "Epoch 50/50\n",
      "2281/2281 [==============================] - 6s 3ms/step - loss: 1.3782e-05 - val_loss: 3.5580e-05\n",
      "end: 301.68169593811035\n"
     ]
    }
   ],
   "source": [
    "start = time()\n",
    "print(\"start:\",0)\n",
    "model.fit(x_train,y_train, epochs = 50, batch_size=30, \n",
    "          validation_data=(x_val,y_val),verbose = 1, \n",
    "          shuffle = False, callbacks=[earlystop])\n",
    "print(\"end:\",time()-start)"
   ]
  },
  {
   "cell_type": "code",
   "execution_count": 53,
   "metadata": {},
   "outputs": [
    {
     "data": {
      "text/plain": [
       "[<matplotlib.lines.Line2D at 0x7f590f225730>]"
      ]
     },
     "execution_count": 53,
     "metadata": {},
     "output_type": "execute_result"
    },
    {
     "data": {
      "image/png": "[encoded data removed]",
      "text/plain": [
       "<Figure size 432x288 with 1 Axes>"
      ]
     },
     "metadata": {
      "needs_background": "light"
     },
     "output_type": "display_data"
    }
   ],
   "source": [
    "loss = model.history.history\n",
    "plt.plot(loss['loss'])\n",
    "plt.plot(loss['val_loss'])"
   ]
  },
  {
   "cell_type": "code",
   "execution_count": 54,
   "metadata": {},
   "outputs": [],
   "source": [
    "y_pred = model.predict(x_test)"
   ]
  },
  {
   "cell_type": "code",
   "execution_count": 55,
   "metadata": {},
   "outputs": [
    {
     "data": {
      "text/plain": [
       "[<matplotlib.lines.Line2D at 0x7f590f153f70>]"
      ]
     },
     "execution_count": 55,
     "metadata": {},
     "output_type": "execute_result"
    },
    {
     "data": {
      "image/png": "[encoded data removed]",
      "text/plain": [
       "<Figure size 1440x720 with 1 Axes>"
      ]
     },
     "metadata": {
      "needs_background": "light"
     },
     "output_type": "display_data"
    }
   ],
   "source": [
    "\n",
    "plt.figure(figsize=(20,10))\n",
    "plt.plot( y_test, '.-', color='red', label='Real values', alpha=0.5)\n",
    "plt.plot( y_pred, '.-', color='blue', label='Predicted values', alpha=1)"
   ]
  },
  {
   "cell_type": "code",
   "execution_count": 56,
   "metadata": {},
   "outputs": [],
   "source": [
    "model.save(\"Testing_Hyper_paramters_11.h5\")"
   ]
  },
  {
   "cell_type": "code",
   "execution_count": 57,
   "metadata": {},
   "outputs": [],
   "source": [
    "from numpy import savetxt"
   ]
  },
  {
   "cell_type": "code",
   "execution_count": 58,
   "metadata": {},
   "outputs": [
    {
     "ename": "ValueError",
     "evalue": "Expected 1D or 2D array, got 3D array instead",
     "output_type": "error",
     "traceback": [
      "\u001b[0;31m---------------------------------------------------------------------------\u001b[0m",
      "\u001b[0;31mValueError\u001b[0m                                Traceback (most recent call last)",
      "\u001b[0;32m<ipython-input-58-c33ef5ccd820>\u001b[0m in \u001b[0;36m<module>\u001b[0;34m\u001b[0m\n\u001b[0;32m----> 1\u001b[0;31m \u001b[0msavetxt\u001b[0m\u001b[0;34m(\u001b[0m\u001b[0;34m'xtest.csv'\u001b[0m\u001b[0;34m,\u001b[0m \u001b[0mx_test\u001b[0m\u001b[0;34m,\u001b[0m \u001b[0mdelimiter\u001b[0m\u001b[0;34m=\u001b[0m\u001b[0;34m','\u001b[0m\u001b[0;34m)\u001b[0m\u001b[0;34m\u001b[0m\u001b[0;34m\u001b[0m\u001b[0m\n\u001b[0m",
      "\u001b[0;32m<__array_function__ internals>\u001b[0m in \u001b[0;36msavetxt\u001b[0;34m(*args, **kwargs)\u001b[0m\n",
      "\u001b[0;32m~/Desktop/dl/dl/lib/python3.8/site-packages/numpy/lib/npyio.py\u001b[0m in \u001b[0;36msavetxt\u001b[0;34m(fname, X, fmt, delimiter, newline, header, footer, comments, encoding)\u001b[0m\n\u001b[1;32m   1392\u001b[0m         \u001b[0;31m# Handle 1-dimensional arrays\u001b[0m\u001b[0;34m\u001b[0m\u001b[0;34m\u001b[0m\u001b[0;34m\u001b[0m\u001b[0m\n\u001b[1;32m   1393\u001b[0m         \u001b[0;32mif\u001b[0m \u001b[0mX\u001b[0m\u001b[0;34m.\u001b[0m\u001b[0mndim\u001b[0m \u001b[0;34m==\u001b[0m \u001b[0;36m0\u001b[0m \u001b[0;32mor\u001b[0m \u001b[0mX\u001b[0m\u001b[0;34m.\u001b[0m\u001b[0mndim\u001b[0m \u001b[0;34m>\u001b[0m \u001b[0;36m2\u001b[0m\u001b[0;34m:\u001b[0m\u001b[0;34m\u001b[0m\u001b[0;34m\u001b[0m\u001b[0m\n\u001b[0;32m-> 1394\u001b[0;31m             raise ValueError(\n\u001b[0m\u001b[1;32m   1395\u001b[0m                 \"Expected 1D or 2D array, got %dD array instead\" % X.ndim)\n\u001b[1;32m   1396\u001b[0m         \u001b[0;32melif\u001b[0m \u001b[0mX\u001b[0m\u001b[0;34m.\u001b[0m\u001b[0mndim\u001b[0m \u001b[0;34m==\u001b[0m \u001b[0;36m1\u001b[0m\u001b[0;34m:\u001b[0m\u001b[0;34m\u001b[0m\u001b[0;34m\u001b[0m\u001b[0m\n",
      "\u001b[0;31mValueError\u001b[0m: Expected 1D or 2D array, got 3D array instead"
     ]
    }
   ],
   "source": [
    "savetxt('xtest.csv', x_test, delimiter=',')"
   ]
  },
  {
   "cell_type": "code",
   "execution_count": null,
   "metadata": {},
   "outputs": [],
   "source": []
  },
  {
   "cell_type": "code",
   "execution_count": null,
   "metadata": {},
   "outputs": [],
   "source": []
  },
  {
   "cell_type": "code",
   "execution_count": null,
   "metadata": {},
   "outputs": [],
   "source": []
  },
  {
   "cell_type": "code",
   "execution_count": null,
   "metadata": {},
   "outputs": [],
   "source": []
  },
  {
   "cell_type": "code",
   "execution_count": null,
   "metadata": {},
   "outputs": [],
   "source": []
  },
  {
   "cell_type": "code",
   "execution_count": null,
   "metadata": {},
   "outputs": [],
   "source": []
  }
 ],
 "metadata": {
  "kernelspec": {
   "display_name": "dl",
   "language": "python",
   "name": "dl"
  },
  "language_info": {
   "codemirror_mode": {
    "name": "ipython",
    "version": 3
   },
   "file_extension": ".py",
   "mimetype": "text/x-python",
   "name": "python",
   "nbconvert_exporter": "python",
   "pygments_lexer": "ipython3",
   "version": "3.8.3"
  }
 },
 "nbformat": 4,
 "nbformat_minor": 4
}
