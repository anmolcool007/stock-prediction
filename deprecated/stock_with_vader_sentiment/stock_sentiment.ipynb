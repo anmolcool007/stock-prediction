{
 "cells": [
  {
   "cell_type": "code",
   "execution_count": 33,
   "metadata": {},
   "outputs": [],
   "source": [
    "import pandas as pd\n",
    "import numpy as np\n",
    "import matplotlib.pyplot as plt\n",
    "import tensorflow as tf\n",
    "from time import time"
   ]
  },
  {
   "cell_type": "code",
   "execution_count": 47,
   "metadata": {},
   "outputs": [
    {
     "data": {
      "text/html": [
       "<div>\n",
       "<style scoped>\n",
       "    .dataframe tbody tr th:only-of-type {\n",
       "        vertical-align: middle;\n",
       "    }\n",
       "\n",
       "    .dataframe tbody tr th {\n",
       "        vertical-align: top;\n",
       "    }\n",
       "\n",
       "    .dataframe thead th {\n",
       "        text-align: right;\n",
       "    }\n",
       "</style>\n",
       "<table border=\"1\" class=\"dataframe\">\n",
       "  <thead>\n",
       "    <tr style=\"text-align: right;\">\n",
       "      <th></th>\n",
       "      <th>Open</th>\n",
       "      <th>High</th>\n",
       "      <th>Low</th>\n",
       "      <th>Close</th>\n",
       "      <th>Adj Close</th>\n",
       "      <th>Volume</th>\n",
       "      <th>pos_vader</th>\n",
       "      <th>neg_vader</th>\n",
       "      <th>neu_vader</th>\n",
       "      <th>comp_vader</th>\n",
       "    </tr>\n",
       "    <tr>\n",
       "      <th>Date</th>\n",
       "      <th></th>\n",
       "      <th></th>\n",
       "      <th></th>\n",
       "      <th></th>\n",
       "      <th></th>\n",
       "      <th></th>\n",
       "      <th></th>\n",
       "      <th></th>\n",
       "      <th></th>\n",
       "      <th></th>\n",
       "    </tr>\n",
       "  </thead>\n",
       "  <tbody>\n",
       "    <tr>\n",
       "      <th>2009-09-21</th>\n",
       "      <td>25.110001</td>\n",
       "      <td>25.370001</td>\n",
       "      <td>25.100000</td>\n",
       "      <td>25.299999</td>\n",
       "      <td>19.717058</td>\n",
       "      <td>28878700</td>\n",
       "      <td>0.0000</td>\n",
       "      <td>0.00000</td>\n",
       "      <td>1.0000</td>\n",
       "      <td>0.000000</td>\n",
       "    </tr>\n",
       "    <tr>\n",
       "      <th>2009-09-22</th>\n",
       "      <td>25.400000</td>\n",
       "      <td>25.820000</td>\n",
       "      <td>25.290001</td>\n",
       "      <td>25.770000</td>\n",
       "      <td>20.083347</td>\n",
       "      <td>61376700</td>\n",
       "      <td>0.2780</td>\n",
       "      <td>0.00000</td>\n",
       "      <td>0.7220</td>\n",
       "      <td>0.401900</td>\n",
       "    </tr>\n",
       "    <tr>\n",
       "      <th>2009-09-23</th>\n",
       "      <td>25.920000</td>\n",
       "      <td>26.250000</td>\n",
       "      <td>25.639999</td>\n",
       "      <td>25.709999</td>\n",
       "      <td>20.036585</td>\n",
       "      <td>60599900</td>\n",
       "      <td>0.2780</td>\n",
       "      <td>0.00000</td>\n",
       "      <td>0.7220</td>\n",
       "      <td>0.401900</td>\n",
       "    </tr>\n",
       "    <tr>\n",
       "      <th>2009-09-24</th>\n",
       "      <td>25.920000</td>\n",
       "      <td>26.110001</td>\n",
       "      <td>25.660000</td>\n",
       "      <td>25.940001</td>\n",
       "      <td>20.215834</td>\n",
       "      <td>56302900</td>\n",
       "      <td>0.1018</td>\n",
       "      <td>0.03440</td>\n",
       "      <td>0.8638</td>\n",
       "      <td>0.116600</td>\n",
       "    </tr>\n",
       "    <tr>\n",
       "      <th>2009-09-25</th>\n",
       "      <td>25.690001</td>\n",
       "      <td>25.820000</td>\n",
       "      <td>25.520000</td>\n",
       "      <td>25.549999</td>\n",
       "      <td>19.911896</td>\n",
       "      <td>50158900</td>\n",
       "      <td>0.2170</td>\n",
       "      <td>0.00000</td>\n",
       "      <td>0.7830</td>\n",
       "      <td>0.361200</td>\n",
       "    </tr>\n",
       "    <tr>\n",
       "      <th>...</th>\n",
       "      <td>...</td>\n",
       "      <td>...</td>\n",
       "      <td>...</td>\n",
       "      <td>...</td>\n",
       "      <td>...</td>\n",
       "      <td>...</td>\n",
       "      <td>...</td>\n",
       "      <td>...</td>\n",
       "      <td>...</td>\n",
       "      <td>...</td>\n",
       "    </tr>\n",
       "    <tr>\n",
       "      <th>2020-05-24</th>\n",
       "      <td>183.190002</td>\n",
       "      <td>184.460007</td>\n",
       "      <td>182.539993</td>\n",
       "      <td>183.509995</td>\n",
       "      <td>183.509995</td>\n",
       "      <td>20826900</td>\n",
       "      <td>0.1695</td>\n",
       "      <td>0.05925</td>\n",
       "      <td>0.7710</td>\n",
       "      <td>0.242000</td>\n",
       "    </tr>\n",
       "    <tr>\n",
       "      <th>2020-05-25</th>\n",
       "      <td>183.190002</td>\n",
       "      <td>184.460007</td>\n",
       "      <td>182.539993</td>\n",
       "      <td>183.509995</td>\n",
       "      <td>183.509995</td>\n",
       "      <td>20826900</td>\n",
       "      <td>0.1695</td>\n",
       "      <td>0.05925</td>\n",
       "      <td>0.7710</td>\n",
       "      <td>0.242000</td>\n",
       "    </tr>\n",
       "    <tr>\n",
       "      <th>2020-05-26</th>\n",
       "      <td>186.339996</td>\n",
       "      <td>186.500000</td>\n",
       "      <td>181.100006</td>\n",
       "      <td>181.570007</td>\n",
       "      <td>181.570007</td>\n",
       "      <td>36073600</td>\n",
       "      <td>0.1180</td>\n",
       "      <td>0.00000</td>\n",
       "      <td>0.8820</td>\n",
       "      <td>0.250000</td>\n",
       "    </tr>\n",
       "    <tr>\n",
       "      <th>2020-05-27</th>\n",
       "      <td>180.199997</td>\n",
       "      <td>181.990005</td>\n",
       "      <td>176.600006</td>\n",
       "      <td>181.809998</td>\n",
       "      <td>181.809998</td>\n",
       "      <td>39517100</td>\n",
       "      <td>0.2265</td>\n",
       "      <td>0.00000</td>\n",
       "      <td>0.7735</td>\n",
       "      <td>0.414400</td>\n",
       "    </tr>\n",
       "    <tr>\n",
       "      <th>2020-05-28</th>\n",
       "      <td>180.740005</td>\n",
       "      <td>184.149994</td>\n",
       "      <td>180.380005</td>\n",
       "      <td>181.399994</td>\n",
       "      <td>181.399994</td>\n",
       "      <td>33810200</td>\n",
       "      <td>0.0810</td>\n",
       "      <td>0.00000</td>\n",
       "      <td>0.9190</td>\n",
       "      <td>0.146475</td>\n",
       "    </tr>\n",
       "  </tbody>\n",
       "</table>\n",
       "<p>3903 rows × 10 columns</p>\n",
       "</div>"
      ],
      "text/plain": [
       "                  Open        High         Low       Close   Adj Close  \\\n",
       "Date                                                                     \n",
       "2009-09-21   25.110001   25.370001   25.100000   25.299999   19.717058   \n",
       "2009-09-22   25.400000   25.820000   25.290001   25.770000   20.083347   \n",
       "2009-09-23   25.920000   26.250000   25.639999   25.709999   20.036585   \n",
       "2009-09-24   25.920000   26.110001   25.660000   25.940001   20.215834   \n",
       "2009-09-25   25.690001   25.820000   25.520000   25.549999   19.911896   \n",
       "...                ...         ...         ...         ...         ...   \n",
       "2020-05-24  183.190002  184.460007  182.539993  183.509995  183.509995   \n",
       "2020-05-25  183.190002  184.460007  182.539993  183.509995  183.509995   \n",
       "2020-05-26  186.339996  186.500000  181.100006  181.570007  181.570007   \n",
       "2020-05-27  180.199997  181.990005  176.600006  181.809998  181.809998   \n",
       "2020-05-28  180.740005  184.149994  180.380005  181.399994  181.399994   \n",
       "\n",
       "              Volume  pos_vader  neg_vader  neu_vader  comp_vader  \n",
       "Date                                                               \n",
       "2009-09-21  28878700     0.0000    0.00000     1.0000    0.000000  \n",
       "2009-09-22  61376700     0.2780    0.00000     0.7220    0.401900  \n",
       "2009-09-23  60599900     0.2780    0.00000     0.7220    0.401900  \n",
       "2009-09-24  56302900     0.1018    0.03440     0.8638    0.116600  \n",
       "2009-09-25  50158900     0.2170    0.00000     0.7830    0.361200  \n",
       "...              ...        ...        ...        ...         ...  \n",
       "2020-05-24  20826900     0.1695    0.05925     0.7710    0.242000  \n",
       "2020-05-25  20826900     0.1695    0.05925     0.7710    0.242000  \n",
       "2020-05-26  36073600     0.1180    0.00000     0.8820    0.250000  \n",
       "2020-05-27  39517100     0.2265    0.00000     0.7735    0.414400  \n",
       "2020-05-28  33810200     0.0810    0.00000     0.9190    0.146475  \n",
       "\n",
       "[3903 rows x 10 columns]"
      ]
     },
     "execution_count": 47,
     "metadata": {},
     "output_type": "execute_result"
    }
   ],
   "source": [
    "df = pd.read_csv(\"../data/MSFT_with_vader_sentiment.csv\", parse_dates = True, index_col = 'Date')\n",
    "del df['Unnamed: 0']\n",
    "del df['Unnamed: 0.1']\n",
    "df"
   ]
  },
  {
   "cell_type": "code",
   "execution_count": 48,
   "metadata": {},
   "outputs": [],
   "source": [
    "# df.drop(columns=['Volume','Adj Close','pos_vader','neg_vader','neu_vader'],inplace=True)\n",
    "df.drop(columns=['Volume','Adj Close','comp_vader'],inplace=True)"
   ]
  },
  {
   "cell_type": "code",
   "execution_count": 49,
   "metadata": {},
   "outputs": [],
   "source": [
    "df.columns = [['open', 'high', 'low','close','pos','neg','neu']]"
   ]
  },
  {
   "cell_type": "code",
   "execution_count": 50,
   "metadata": {},
   "outputs": [],
   "source": [
    "from sklearn.preprocessing import MinMaxScaler\n",
    "sc = MinMaxScaler()"
   ]
  },
  {
   "cell_type": "code",
   "execution_count": 51,
   "metadata": {},
   "outputs": [],
   "source": [
    "data = sc.fit_transform(df)"
   ]
  },
  {
   "cell_type": "code",
   "execution_count": 52,
   "metadata": {},
   "outputs": [],
   "source": [
    "train_ind = int(0.6*len(df))\n",
    "val_ind = train_ind + int(0.2*len(df))\n",
    "train = data[:train_ind]\n",
    "val = data[train_ind:val_ind]\n",
    "test = data[val_ind:]"
   ]
  },
  {
   "cell_type": "code",
   "execution_count": 53,
   "metadata": {},
   "outputs": [
    {
     "data": {
      "text/plain": [
       "((2341, 7), (2341,))"
      ]
     },
     "execution_count": 53,
     "metadata": {},
     "output_type": "execute_result"
    }
   ],
   "source": [
    "xtrain,ytrain,xval,yval,xtest,ytest = train[:,:],train[:,3],val[:,:],val[:,3],test[:,:],test[:,3]\n",
    "xtrain.shape, ytrain.shape, "
   ]
  },
  {
   "cell_type": "code",
   "execution_count": 54,
   "metadata": {},
   "outputs": [],
   "source": [
    "lookback = 60\n",
    "n_features = 7\n",
    "train_len = len(xtrain) - lookback\n",
    "test_len = len(xtest) - lookback\n",
    "val_len = len(xval) - lookback"
   ]
  },
  {
   "cell_type": "code",
   "execution_count": 55,
   "metadata": {},
   "outputs": [
    {
     "name": "stdout",
     "output_type": "stream",
     "text": [
      "x_train (2281, 60, 7)\n",
      "y_train (2281,)\n"
     ]
    }
   ],
   "source": [
    "x_train = np.zeros((train_len, lookback, n_features))\n",
    "y_train = np.zeros((train_len))\n",
    "for i in range(train_len):\n",
    "    ytemp = i+lookback\n",
    "    x_train[i] = xtrain[i:ytemp]\n",
    "    y_train[i] = ytrain[ytemp]\n",
    "print(\"x_train\", x_train.shape)\n",
    "print(\"y_train\", y_train.shape)"
   ]
  },
  {
   "cell_type": "code",
   "execution_count": 56,
   "metadata": {},
   "outputs": [
    {
     "name": "stdout",
     "output_type": "stream",
     "text": [
      "x_val (720, 60, 7)\n",
      "y_val (720,)\n"
     ]
    }
   ],
   "source": [
    "x_val = np.zeros((val_len, lookback, n_features))\n",
    "y_val = np.zeros((val_len))\n",
    "for i in range(val_len):\n",
    "    ytemp = i+lookback\n",
    "    x_val[i] = xval[i:ytemp]\n",
    "    y_val[i] = yval[ytemp]\n",
    "print(\"x_val\", x_val.shape)\n",
    "print(\"y_val\", y_val.shape)\n"
   ]
  },
  {
   "cell_type": "code",
   "execution_count": 57,
   "metadata": {},
   "outputs": [
    {
     "name": "stdout",
     "output_type": "stream",
     "text": [
      "x_test (722, 60, 7)\n",
      "y_test (722,)\n"
     ]
    }
   ],
   "source": [
    "x_test = np.zeros((test_len, lookback, n_features))\n",
    "y_test = np.zeros((test_len))\n",
    "for i in range(test_len):\n",
    "    ytemp = i+lookback\n",
    "    x_test[i] = xtest[i:ytemp]\n",
    "    y_test[i] = ytest[ytemp]\n",
    "print(\"x_test\", x_test.shape)\n",
    "print(\"y_test\", y_test.shape)"
   ]
  },
  {
   "cell_type": "code",
   "execution_count": 58,
   "metadata": {},
   "outputs": [],
   "source": [
    "from keras.models import Sequential, load_model\n",
    "from keras.layers.core import Dense, Activation, Dropout, Flatten\n",
    "from keras.layers import LSTM\n",
    "from keras.optimizers import Adam\n",
    "from time import time\n",
    "from keras.callbacks import EarlyStopping"
   ]
  },
  {
   "cell_type": "code",
   "execution_count": 106,
   "metadata": {},
   "outputs": [],
   "source": [
    "model = Sequential() \n",
    "model.add(LSTM(110,input_shape = (lookback, n_features), return_sequences=True))\n",
    "model.add(LSTM(110))\n",
    "model.add(Dense(1))"
   ]
  },
  {
   "cell_type": "code",
   "execution_count": 107,
   "metadata": {},
   "outputs": [],
   "source": [
    "model.compile(loss = 'mse', optimizer = 'adam')\n",
    "earlystop = EarlyStopping(monitor='val_loss', min_delta=0.0001, patience=80,  verbose=1, mode='min')"
   ]
  },
  {
   "cell_type": "code",
   "execution_count": 108,
   "metadata": {},
   "outputs": [
    {
     "name": "stdout",
     "output_type": "stream",
     "text": [
      "start: 0\n",
      "Train on 2281 samples, validate on 720 samples\n",
      "Epoch 1/60\n",
      "2281/2281 [==============================] - 5s 2ms/step - loss: 0.0015 - val_loss: 0.0066\n",
      "Epoch 2/60\n",
      "2281/2281 [==============================] - 4s 2ms/step - loss: 0.0016 - val_loss: 0.0081\n",
      "Epoch 3/60\n",
      "2281/2281 [==============================] - 4s 2ms/step - loss: 0.0016 - val_loss: 0.0130\n",
      "Epoch 4/60\n",
      "2281/2281 [==============================] - 4s 2ms/step - loss: 0.0010 - val_loss: 0.0066\n",
      "Epoch 5/60\n",
      "2281/2281 [==============================] - 4s 2ms/step - loss: 8.8305e-04 - val_loss: 0.0081\n",
      "Epoch 6/60\n",
      "2281/2281 [==============================] - 4s 2ms/step - loss: 8.2586e-04 - val_loss: 0.0056\n",
      "Epoch 7/60\n",
      "2281/2281 [==============================] - 4s 2ms/step - loss: 6.1795e-04 - val_loss: 0.0023\n",
      "Epoch 8/60\n",
      "2281/2281 [==============================] - 4s 2ms/step - loss: 3.6667e-04 - val_loss: 5.4973e-04\n",
      "Epoch 9/60\n",
      "2281/2281 [==============================] - 4s 2ms/step - loss: 2.0997e-04 - val_loss: 2.1563e-04\n",
      "Epoch 10/60\n",
      "2281/2281 [==============================] - 4s 2ms/step - loss: 1.6520e-04 - val_loss: 3.3083e-04\n",
      "Epoch 11/60\n",
      "2281/2281 [==============================] - 4s 2ms/step - loss: 1.1115e-04 - val_loss: 9.6691e-04\n",
      "Epoch 12/60\n",
      "2281/2281 [==============================] - 4s 2ms/step - loss: 6.8282e-05 - val_loss: 0.0013\n",
      "Epoch 13/60\n",
      "2281/2281 [==============================] - 4s 2ms/step - loss: 5.1649e-05 - val_loss: 0.0014\n",
      "Epoch 14/60\n",
      "2281/2281 [==============================] - 4s 2ms/step - loss: 4.6122e-05 - val_loss: 0.0013\n",
      "Epoch 15/60\n",
      "2281/2281 [==============================] - 4s 2ms/step - loss: 4.2745e-05 - val_loss: 0.0011\n",
      "Epoch 16/60\n",
      "2281/2281 [==============================] - 4s 2ms/step - loss: 4.0310e-05 - val_loss: 0.0010\n",
      "Epoch 17/60\n",
      "2281/2281 [==============================] - 4s 2ms/step - loss: 3.8533e-05 - val_loss: 8.7787e-04\n",
      "Epoch 18/60\n",
      "2281/2281 [==============================] - 4s 2ms/step - loss: 3.7266e-05 - val_loss: 7.5976e-04\n",
      "Epoch 19/60\n",
      "2281/2281 [==============================] - 4s 2ms/step - loss: 3.6395e-05 - val_loss: 6.5203e-04\n",
      "Epoch 20/60\n",
      "2281/2281 [==============================] - 4s 2ms/step - loss: 3.5854e-05 - val_loss: 5.5608e-04\n",
      "Epoch 21/60\n",
      "2281/2281 [==============================] - 4s 2ms/step - loss: 3.5607e-05 - val_loss: 4.7244e-04\n",
      "Epoch 22/60\n",
      "2281/2281 [==============================] - 4s 2ms/step - loss: 3.5643e-05 - val_loss: 4.0087e-04\n",
      "Epoch 23/60\n",
      "2281/2281 [==============================] - 4s 2ms/step - loss: 3.5964e-05 - val_loss: 3.4075e-04\n",
      "Epoch 24/60\n",
      "2281/2281 [==============================] - 4s 2ms/step - loss: 3.6594e-05 - val_loss: 2.9120e-04\n",
      "Epoch 25/60\n",
      "2281/2281 [==============================] - 4s 2ms/step - loss: 3.7568e-05 - val_loss: 2.5123e-04\n",
      "Epoch 26/60\n",
      "2281/2281 [==============================] - 4s 2ms/step - loss: 3.8937e-05 - val_loss: 2.1986e-04\n",
      "Epoch 27/60\n",
      "2281/2281 [==============================] - 4s 2ms/step - loss: 4.0770e-05 - val_loss: 1.9618e-04\n",
      "Epoch 28/60\n",
      "2281/2281 [==============================] - 4s 2ms/step - loss: 4.3150e-05 - val_loss: 1.7947e-04\n",
      "Epoch 29/60\n",
      "2281/2281 [==============================] - 4s 2ms/step - loss: 4.6175e-05 - val_loss: 1.6925e-04\n",
      "Epoch 30/60\n",
      "2281/2281 [==============================] - 4s 2ms/step - loss: 4.9938e-05 - val_loss: 1.6536e-04\n",
      "Epoch 31/60\n",
      "2281/2281 [==============================] - 4s 2ms/step - loss: 5.4482e-05 - val_loss: 1.6794e-04\n",
      "Epoch 32/60\n",
      "2281/2281 [==============================] - 4s 2ms/step - loss: 5.9709e-05 - val_loss: 1.7724e-04\n",
      "Epoch 33/60\n",
      "2281/2281 [==============================] - 4s 2ms/step - loss: 6.5249e-05 - val_loss: 1.9324e-04\n",
      "Epoch 34/60\n",
      "2281/2281 [==============================] - 4s 2ms/step - loss: 7.0344e-05 - val_loss: 2.1515e-04\n",
      "Epoch 35/60\n",
      "2281/2281 [==============================] - 4s 2ms/step - loss: 7.3931e-05 - val_loss: 2.4104e-04\n",
      "Epoch 36/60\n",
      "2281/2281 [==============================] - 4s 2ms/step - loss: 7.5063e-05 - val_loss: 2.6770e-04\n",
      "Epoch 37/60\n",
      "2281/2281 [==============================] - 4s 2ms/step - loss: 7.3510e-05 - val_loss: 2.9093e-04\n",
      "Epoch 38/60\n",
      "2281/2281 [==============================] - 4s 2ms/step - loss: 6.9998e-05 - val_loss: 3.0698e-04\n",
      "Epoch 39/60\n",
      "2281/2281 [==============================] - 4s 2ms/step - loss: 6.5772e-05 - val_loss: 3.1441e-04\n",
      "Epoch 40/60\n",
      "2281/2281 [==============================] - 4s 2ms/step - loss: 6.1901e-05 - val_loss: 3.1430e-04\n",
      "Epoch 41/60\n",
      "2281/2281 [==============================] - 4s 2ms/step - loss: 5.8924e-05 - val_loss: 3.0904e-04\n",
      "Epoch 42/60\n",
      "2281/2281 [==============================] - 4s 2ms/step - loss: 5.6946e-05 - val_loss: 3.0113e-04\n",
      "Epoch 43/60\n",
      "2281/2281 [==============================] - 4s 2ms/step - loss: 5.5866e-05 - val_loss: 2.9259e-04\n",
      "Epoch 44/60\n",
      "2281/2281 [==============================] - 4s 2ms/step - loss: 5.5523e-05 - val_loss: 2.8489e-04\n",
      "Epoch 45/60\n",
      "2281/2281 [==============================] - 4s 2ms/step - loss: 5.5758e-05 - val_loss: 2.7896e-04\n",
      "Epoch 46/60\n",
      "2281/2281 [==============================] - 4s 2ms/step - loss: 5.6420e-05 - val_loss: 2.7534e-04\n",
      "Epoch 47/60\n",
      "2281/2281 [==============================] - 4s 2ms/step - loss: 5.7354e-05 - val_loss: 2.7418e-04\n",
      "Epoch 48/60\n",
      "2281/2281 [==============================] - 4s 2ms/step - loss: 5.8385e-05 - val_loss: 2.7530e-04\n",
      "Epoch 49/60\n",
      "2281/2281 [==============================] - 4s 2ms/step - loss: 5.9321e-05 - val_loss: 2.7818e-04\n",
      "Epoch 50/60\n",
      "2281/2281 [==============================] - 4s 2ms/step - loss: 5.9967e-05 - val_loss: 2.8198e-04\n",
      "Epoch 51/60\n",
      "2281/2281 [==============================] - 4s 2ms/step - loss: 6.0161e-05 - val_loss: 2.8567e-04\n",
      "Epoch 52/60\n",
      "2281/2281 [==============================] - 4s 2ms/step - loss: 5.9814e-05 - val_loss: 2.8818e-04\n",
      "Epoch 53/60\n",
      "2281/2281 [==============================] - 4s 2ms/step - loss: 5.8940e-05 - val_loss: 2.8868e-04\n",
      "Epoch 54/60\n",
      "2281/2281 [==============================] - 4s 2ms/step - loss: 5.7656e-05 - val_loss: 2.8669e-04\n",
      "Epoch 55/60\n",
      "2281/2281 [==============================] - 4s 2ms/step - loss: 5.6142e-05 - val_loss: 2.8223e-04\n",
      "Epoch 56/60\n",
      "2281/2281 [==============================] - 4s 2ms/step - loss: 5.4593e-05 - val_loss: 2.7569e-04\n",
      "Epoch 57/60\n",
      "2281/2281 [==============================] - 4s 2ms/step - loss: 5.3176e-05 - val_loss: 2.6773e-04\n",
      "Epoch 58/60\n",
      "2281/2281 [==============================] - 4s 2ms/step - loss: 5.2006e-05 - val_loss: 2.5912e-04\n",
      "Epoch 59/60\n",
      "2281/2281 [==============================] - 4s 2ms/step - loss: 5.1149e-05 - val_loss: 2.5059e-04\n",
      "Epoch 60/60\n",
      "2281/2281 [==============================] - 4s 2ms/step - loss: 5.0629e-05 - val_loss: 2.4278e-04\n",
      "end: 261.1843819618225\n"
     ]
    }
   ],
   "source": [
    "start = time()\n",
    "print(\"start:\",0)\n",
    "model.fit(x_train,y_train, epochs = 60, batch_size=40, \n",
    "          validation_data=(x_val,y_val),verbose = 1, \n",
    "          shuffle = False, callbacks=[earlystop])\n",
    "print(\"end:\",time()-start)"
   ]
  },
  {
   "cell_type": "code",
   "execution_count": 109,
   "metadata": {},
   "outputs": [
    {
     "data": {
      "image/png": "[encoded data removed]",
      "text/plain": [
       "<Figure size 432x288 with 1 Axes>"
      ]
     },
     "metadata": {
      "needs_background": "light"
     },
     "output_type": "display_data"
    }
   ],
   "source": [
    "loss = model.history.history\n",
    "loss = pd.DataFrame(loss)\n",
    "loss.to_csv(\"losses/model1.csv\")\n",
    "plt.plot(loss['loss'])\n",
    "plt.plot(loss['val_loss'])\n",
    "plt.savefig(\"losses/model1.png\")"
   ]
  },
  {
   "cell_type": "code",
   "execution_count": 110,
   "metadata": {},
   "outputs": [
    {
     "data": {
      "image/png": "[encoded data removed]",
      "text/plain": [
       "<Figure size 1440x720 with 1 Axes>"
      ]
     },
     "metadata": {
      "needs_background": "light"
     },
     "output_type": "display_data"
    }
   ],
   "source": [
    "y_pred = model.predict(x_test)\n",
    "\n",
    "plt.figure(figsize=(20,10))\n",
    "plt.plot( y_test, '.-', color='red', label='Real values', alpha=0.5)\n",
    "plt.plot( y_pred, '.-', color='blue', label='Predicted values', alpha=1)\n",
    "plt.savefig(\"pred_model1.png\")"
   ]
  },
  {
   "cell_type": "code",
   "execution_count": 71,
   "metadata": {},
   "outputs": [],
   "source": [
    "model.save(\"stock_sentiment_vader1.h5\")"
   ]
  },
  {
   "cell_type": "code",
   "execution_count": 65,
   "metadata": {},
   "outputs": [
    {
     "name": "stdout",
     "output_type": "stream",
     "text": [
      "722/722 [==============================] - 0s 543us/step\n"
     ]
    },
    {
     "data": {
      "text/plain": [
       "0.0015873273078692751"
      ]
     },
     "execution_count": 65,
     "metadata": {},
     "output_type": "execute_result"
    }
   ],
   "source": [
    "model.evaluate(x_test, y_test)"
   ]
  },
  {
   "cell_type": "code",
   "execution_count": 53,
   "metadata": {},
   "outputs": [],
   "source": [
    "model1 = load_model(\"stock_sentiment_1.h5\")\n",
    "model11 = load_model(\"stock_sentiment_11.h5\")"
   ]
  },
  {
   "cell_type": "code",
   "execution_count": 50,
   "metadata": {},
   "outputs": [
    {
     "name": "stdout",
     "output_type": "stream",
     "text": [
      "722/722 [==============================] - 0s 547us/step\n"
     ]
    },
    {
     "data": {
      "text/plain": [
       "0.0014917453431067705"
      ]
     },
     "execution_count": 50,
     "metadata": {},
     "output_type": "execute_result"
    }
   ],
   "source": [
    "model1.evaluate(x_test,y_test)"
   ]
  },
  {
   "cell_type": "code",
   "execution_count": 51,
   "metadata": {},
   "outputs": [],
   "source": [
    "results_original = pd.read_csv(\"../stock_prediction/without_sentiment.csv\")"
   ]
  },
  {
   "cell_type": "code",
   "execution_count": 52,
   "metadata": {},
   "outputs": [
    {
     "data": {
      "text/html": [
       "<div>\n",
       "<style scoped>\n",
       "    .dataframe tbody tr th:only-of-type {\n",
       "        vertical-align: middle;\n",
       "    }\n",
       "\n",
       "    .dataframe tbody tr th {\n",
       "        vertical-align: top;\n",
       "    }\n",
       "\n",
       "    .dataframe thead th {\n",
       "        text-align: right;\n",
       "    }\n",
       "</style>\n",
       "<table border=\"1\" class=\"dataframe\">\n",
       "  <thead>\n",
       "    <tr style=\"text-align: right;\">\n",
       "      <th></th>\n",
       "      <th>Unnamed: 0</th>\n",
       "      <th>0</th>\n",
       "    </tr>\n",
       "  </thead>\n",
       "  <tbody>\n",
       "    <tr>\n",
       "      <th>0</th>\n",
       "      <td>0</td>\n",
       "      <td>0.000373</td>\n",
       "    </tr>\n",
       "    <tr>\n",
       "      <th>1</th>\n",
       "      <td>1</td>\n",
       "      <td>0.005508</td>\n",
       "    </tr>\n",
       "    <tr>\n",
       "      <th>2</th>\n",
       "      <td>2</td>\n",
       "      <td>0.001133</td>\n",
       "    </tr>\n",
       "    <tr>\n",
       "      <th>3</th>\n",
       "      <td>3</td>\n",
       "      <td>0.009937</td>\n",
       "    </tr>\n",
       "    <tr>\n",
       "      <th>4</th>\n",
       "      <td>4</td>\n",
       "      <td>0.004588</td>\n",
       "    </tr>\n",
       "    <tr>\n",
       "      <th>5</th>\n",
       "      <td>5</td>\n",
       "      <td>0.000835</td>\n",
       "    </tr>\n",
       "    <tr>\n",
       "      <th>6</th>\n",
       "      <td>6</td>\n",
       "      <td>0.013204</td>\n",
       "    </tr>\n",
       "    <tr>\n",
       "      <th>7</th>\n",
       "      <td>7</td>\n",
       "      <td>0.000327</td>\n",
       "    </tr>\n",
       "    <tr>\n",
       "      <th>8</th>\n",
       "      <td>8</td>\n",
       "      <td>0.005302</td>\n",
       "    </tr>\n",
       "    <tr>\n",
       "      <th>9</th>\n",
       "      <td>9</td>\n",
       "      <td>0.000360</td>\n",
       "    </tr>\n",
       "    <tr>\n",
       "      <th>10</th>\n",
       "      <td>10</td>\n",
       "      <td>0.000334</td>\n",
       "    </tr>\n",
       "  </tbody>\n",
       "</table>\n",
       "</div>"
      ],
      "text/plain": [
       "    Unnamed: 0         0\n",
       "0            0  0.000373\n",
       "1            1  0.005508\n",
       "2            2  0.001133\n",
       "3            3  0.009937\n",
       "4            4  0.004588\n",
       "5            5  0.000835\n",
       "6            6  0.013204\n",
       "7            7  0.000327\n",
       "8            8  0.005302\n",
       "9            9  0.000360\n",
       "10          10  0.000334"
      ]
     },
     "execution_count": 52,
     "metadata": {},
     "output_type": "execute_result"
    }
   ],
   "source": [
    "results_original"
   ]
  },
  {
   "cell_type": "code",
   "execution_count": 54,
   "metadata": {},
   "outputs": [
    {
     "name": "stdout",
     "output_type": "stream",
     "text": [
      "722/722 [==============================] - 0s 565us/step\n"
     ]
    },
    {
     "data": {
      "text/plain": [
       "0.0007189869612372813"
      ]
     },
     "execution_count": 54,
     "metadata": {},
     "output_type": "execute_result"
    }
   ],
   "source": [
    "model11.evaluate(x_test,y_test)"
   ]
  },
  {
   "cell_type": "code",
   "execution_count": null,
   "metadata": {},
   "outputs": [],
   "source": []
  }
 ],
 "metadata": {
  "kernelspec": {
   "display_name": "dl",
   "language": "python",
   "name": "dl"
  },
  "language_info": {
   "codemirror_mode": {
    "name": "ipython",
    "version": 3
   },
   "file_extension": ".py",
   "mimetype": "text/x-python",
   "name": "python",
   "nbconvert_exporter": "python",
   "pygments_lexer": "ipython3",
   "version": "3.8.3"
  }
 },
 "nbformat": 4,
 "nbformat_minor": 4
}
