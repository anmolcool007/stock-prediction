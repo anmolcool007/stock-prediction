{
 "cells": [
  {
   "cell_type": "code",
   "execution_count": 1,
   "metadata": {},
   "outputs": [],
   "source": [
    "import pandas as pd\n",
    "import numpy as np\n",
    "import matplotlib.pyplot as plt\n",
    "import tensorflow as tf\n",
    "from time import time"
   ]
  },
  {
   "cell_type": "code",
   "execution_count": 12,
   "metadata": {},
   "outputs": [
    {
     "data": {
      "text/html": [
       "<div>\n",
       "<style scoped>\n",
       "    .dataframe tbody tr th:only-of-type {\n",
       "        vertical-align: middle;\n",
       "    }\n",
       "\n",
       "    .dataframe tbody tr th {\n",
       "        vertical-align: top;\n",
       "    }\n",
       "\n",
       "    .dataframe thead th {\n",
       "        text-align: right;\n",
       "    }\n",
       "</style>\n",
       "<table border=\"1\" class=\"dataframe\">\n",
       "  <thead>\n",
       "    <tr style=\"text-align: right;\">\n",
       "      <th></th>\n",
       "      <th>Open</th>\n",
       "      <th>High</th>\n",
       "      <th>Low</th>\n",
       "      <th>Close</th>\n",
       "      <th>Adj Close</th>\n",
       "      <th>Volume</th>\n",
       "      <th>textblob_sentiment</th>\n",
       "    </tr>\n",
       "    <tr>\n",
       "      <th>Date</th>\n",
       "      <th></th>\n",
       "      <th></th>\n",
       "      <th></th>\n",
       "      <th></th>\n",
       "      <th></th>\n",
       "      <th></th>\n",
       "      <th></th>\n",
       "    </tr>\n",
       "  </thead>\n",
       "  <tbody>\n",
       "    <tr>\n",
       "      <th>2009-09-21</th>\n",
       "      <td>25.110001</td>\n",
       "      <td>25.370001</td>\n",
       "      <td>25.100000</td>\n",
       "      <td>25.299999</td>\n",
       "      <td>19.717058</td>\n",
       "      <td>28878700</td>\n",
       "      <td>0.062500</td>\n",
       "    </tr>\n",
       "    <tr>\n",
       "      <th>2009-09-22</th>\n",
       "      <td>25.400000</td>\n",
       "      <td>25.820000</td>\n",
       "      <td>25.290001</td>\n",
       "      <td>25.770000</td>\n",
       "      <td>20.083347</td>\n",
       "      <td>61376700</td>\n",
       "      <td>-0.092857</td>\n",
       "    </tr>\n",
       "    <tr>\n",
       "      <th>2009-09-23</th>\n",
       "      <td>25.920000</td>\n",
       "      <td>26.250000</td>\n",
       "      <td>25.639999</td>\n",
       "      <td>25.709999</td>\n",
       "      <td>20.036585</td>\n",
       "      <td>60599900</td>\n",
       "      <td>-0.092857</td>\n",
       "    </tr>\n",
       "    <tr>\n",
       "      <th>2009-09-24</th>\n",
       "      <td>25.920000</td>\n",
       "      <td>26.110001</td>\n",
       "      <td>25.660000</td>\n",
       "      <td>25.940001</td>\n",
       "      <td>20.215834</td>\n",
       "      <td>56302900</td>\n",
       "      <td>0.039545</td>\n",
       "    </tr>\n",
       "    <tr>\n",
       "      <th>2009-09-25</th>\n",
       "      <td>25.690001</td>\n",
       "      <td>25.820000</td>\n",
       "      <td>25.520000</td>\n",
       "      <td>25.549999</td>\n",
       "      <td>19.911896</td>\n",
       "      <td>50158900</td>\n",
       "      <td>0.078788</td>\n",
       "    </tr>\n",
       "    <tr>\n",
       "      <th>...</th>\n",
       "      <td>...</td>\n",
       "      <td>...</td>\n",
       "      <td>...</td>\n",
       "      <td>...</td>\n",
       "      <td>...</td>\n",
       "      <td>...</td>\n",
       "      <td>...</td>\n",
       "    </tr>\n",
       "    <tr>\n",
       "      <th>2020-05-24</th>\n",
       "      <td>183.190002</td>\n",
       "      <td>184.460007</td>\n",
       "      <td>182.539993</td>\n",
       "      <td>183.509995</td>\n",
       "      <td>183.509995</td>\n",
       "      <td>20826900</td>\n",
       "      <td>-0.024881</td>\n",
       "    </tr>\n",
       "    <tr>\n",
       "      <th>2020-05-25</th>\n",
       "      <td>183.190002</td>\n",
       "      <td>184.460007</td>\n",
       "      <td>182.539993</td>\n",
       "      <td>183.509995</td>\n",
       "      <td>183.509995</td>\n",
       "      <td>20826900</td>\n",
       "      <td>-0.024881</td>\n",
       "    </tr>\n",
       "    <tr>\n",
       "      <th>2020-05-26</th>\n",
       "      <td>186.339996</td>\n",
       "      <td>186.500000</td>\n",
       "      <td>181.100006</td>\n",
       "      <td>181.570007</td>\n",
       "      <td>181.570007</td>\n",
       "      <td>36073600</td>\n",
       "      <td>0.150000</td>\n",
       "    </tr>\n",
       "    <tr>\n",
       "      <th>2020-05-27</th>\n",
       "      <td>180.199997</td>\n",
       "      <td>181.990005</td>\n",
       "      <td>176.600006</td>\n",
       "      <td>181.809998</td>\n",
       "      <td>181.809998</td>\n",
       "      <td>39517100</td>\n",
       "      <td>0.334091</td>\n",
       "    </tr>\n",
       "    <tr>\n",
       "      <th>2020-05-28</th>\n",
       "      <td>180.740005</td>\n",
       "      <td>184.149994</td>\n",
       "      <td>180.380005</td>\n",
       "      <td>181.399994</td>\n",
       "      <td>181.399994</td>\n",
       "      <td>33810200</td>\n",
       "      <td>0.125000</td>\n",
       "    </tr>\n",
       "  </tbody>\n",
       "</table>\n",
       "<p>3903 rows × 7 columns</p>\n",
       "</div>"
      ],
      "text/plain": [
       "                  Open        High         Low       Close   Adj Close  \\\n",
       "Date                                                                     \n",
       "2009-09-21   25.110001   25.370001   25.100000   25.299999   19.717058   \n",
       "2009-09-22   25.400000   25.820000   25.290001   25.770000   20.083347   \n",
       "2009-09-23   25.920000   26.250000   25.639999   25.709999   20.036585   \n",
       "2009-09-24   25.920000   26.110001   25.660000   25.940001   20.215834   \n",
       "2009-09-25   25.690001   25.820000   25.520000   25.549999   19.911896   \n",
       "...                ...         ...         ...         ...         ...   \n",
       "2020-05-24  183.190002  184.460007  182.539993  183.509995  183.509995   \n",
       "2020-05-25  183.190002  184.460007  182.539993  183.509995  183.509995   \n",
       "2020-05-26  186.339996  186.500000  181.100006  181.570007  181.570007   \n",
       "2020-05-27  180.199997  181.990005  176.600006  181.809998  181.809998   \n",
       "2020-05-28  180.740005  184.149994  180.380005  181.399994  181.399994   \n",
       "\n",
       "              Volume  textblob_sentiment  \n",
       "Date                                      \n",
       "2009-09-21  28878700            0.062500  \n",
       "2009-09-22  61376700           -0.092857  \n",
       "2009-09-23  60599900           -0.092857  \n",
       "2009-09-24  56302900            0.039545  \n",
       "2009-09-25  50158900            0.078788  \n",
       "...              ...                 ...  \n",
       "2020-05-24  20826900           -0.024881  \n",
       "2020-05-25  20826900           -0.024881  \n",
       "2020-05-26  36073600            0.150000  \n",
       "2020-05-27  39517100            0.334091  \n",
       "2020-05-28  33810200            0.125000  \n",
       "\n",
       "[3903 rows x 7 columns]"
      ]
     },
     "execution_count": 12,
     "metadata": {},
     "output_type": "execute_result"
    }
   ],
   "source": [
    "df = pd.read_csv(\"../data/MSFT_with_textblob_sentiment.csv\", parse_dates = True, index_col = 'Date')\n",
    "del df['Unnamed: 0']\n",
    "del df['Unnamed: 0.1']\n",
    "df"
   ]
  },
  {
   "cell_type": "code",
   "execution_count": 13,
   "metadata": {},
   "outputs": [],
   "source": [
    "df.drop(columns=['Volume','Adj Close'],inplace=True)"
   ]
  },
  {
   "cell_type": "code",
   "execution_count": 14,
   "metadata": {},
   "outputs": [
    {
     "data": {
      "text/html": [
       "<div>\n",
       "<style scoped>\n",
       "    .dataframe tbody tr th:only-of-type {\n",
       "        vertical-align: middle;\n",
       "    }\n",
       "\n",
       "    .dataframe tbody tr th {\n",
       "        vertical-align: top;\n",
       "    }\n",
       "\n",
       "    .dataframe thead tr th {\n",
       "        text-align: left;\n",
       "    }\n",
       "\n",
       "    .dataframe thead tr:last-of-type th {\n",
       "        text-align: right;\n",
       "    }\n",
       "</style>\n",
       "<table border=\"1\" class=\"dataframe\">\n",
       "  <thead>\n",
       "    <tr>\n",
       "      <th></th>\n",
       "      <th>open</th>\n",
       "      <th>high</th>\n",
       "      <th>low</th>\n",
       "      <th>close</th>\n",
       "      <th>sentiment</th>\n",
       "    </tr>\n",
       "    <tr>\n",
       "      <th>Date</th>\n",
       "      <th></th>\n",
       "      <th></th>\n",
       "      <th></th>\n",
       "      <th></th>\n",
       "      <th></th>\n",
       "    </tr>\n",
       "  </thead>\n",
       "  <tbody>\n",
       "    <tr>\n",
       "      <th>2009-09-21</th>\n",
       "      <td>25.110001</td>\n",
       "      <td>25.370001</td>\n",
       "      <td>25.100000</td>\n",
       "      <td>25.299999</td>\n",
       "      <td>0.062500</td>\n",
       "    </tr>\n",
       "    <tr>\n",
       "      <th>2009-09-22</th>\n",
       "      <td>25.400000</td>\n",
       "      <td>25.820000</td>\n",
       "      <td>25.290001</td>\n",
       "      <td>25.770000</td>\n",
       "      <td>-0.092857</td>\n",
       "    </tr>\n",
       "    <tr>\n",
       "      <th>2009-09-23</th>\n",
       "      <td>25.920000</td>\n",
       "      <td>26.250000</td>\n",
       "      <td>25.639999</td>\n",
       "      <td>25.709999</td>\n",
       "      <td>-0.092857</td>\n",
       "    </tr>\n",
       "    <tr>\n",
       "      <th>2009-09-24</th>\n",
       "      <td>25.920000</td>\n",
       "      <td>26.110001</td>\n",
       "      <td>25.660000</td>\n",
       "      <td>25.940001</td>\n",
       "      <td>0.039545</td>\n",
       "    </tr>\n",
       "    <tr>\n",
       "      <th>2009-09-25</th>\n",
       "      <td>25.690001</td>\n",
       "      <td>25.820000</td>\n",
       "      <td>25.520000</td>\n",
       "      <td>25.549999</td>\n",
       "      <td>0.078788</td>\n",
       "    </tr>\n",
       "    <tr>\n",
       "      <th>...</th>\n",
       "      <td>...</td>\n",
       "      <td>...</td>\n",
       "      <td>...</td>\n",
       "      <td>...</td>\n",
       "      <td>...</td>\n",
       "    </tr>\n",
       "    <tr>\n",
       "      <th>2020-05-24</th>\n",
       "      <td>183.190002</td>\n",
       "      <td>184.460007</td>\n",
       "      <td>182.539993</td>\n",
       "      <td>183.509995</td>\n",
       "      <td>-0.024881</td>\n",
       "    </tr>\n",
       "    <tr>\n",
       "      <th>2020-05-25</th>\n",
       "      <td>183.190002</td>\n",
       "      <td>184.460007</td>\n",
       "      <td>182.539993</td>\n",
       "      <td>183.509995</td>\n",
       "      <td>-0.024881</td>\n",
       "    </tr>\n",
       "    <tr>\n",
       "      <th>2020-05-26</th>\n",
       "      <td>186.339996</td>\n",
       "      <td>186.500000</td>\n",
       "      <td>181.100006</td>\n",
       "      <td>181.570007</td>\n",
       "      <td>0.150000</td>\n",
       "    </tr>\n",
       "    <tr>\n",
       "      <th>2020-05-27</th>\n",
       "      <td>180.199997</td>\n",
       "      <td>181.990005</td>\n",
       "      <td>176.600006</td>\n",
       "      <td>181.809998</td>\n",
       "      <td>0.334091</td>\n",
       "    </tr>\n",
       "    <tr>\n",
       "      <th>2020-05-28</th>\n",
       "      <td>180.740005</td>\n",
       "      <td>184.149994</td>\n",
       "      <td>180.380005</td>\n",
       "      <td>181.399994</td>\n",
       "      <td>0.125000</td>\n",
       "    </tr>\n",
       "  </tbody>\n",
       "</table>\n",
       "<p>3903 rows × 5 columns</p>\n",
       "</div>"
      ],
      "text/plain": [
       "                  open        high         low       close sentiment\n",
       "Date                                                                \n",
       "2009-09-21   25.110001   25.370001   25.100000   25.299999  0.062500\n",
       "2009-09-22   25.400000   25.820000   25.290001   25.770000 -0.092857\n",
       "2009-09-23   25.920000   26.250000   25.639999   25.709999 -0.092857\n",
       "2009-09-24   25.920000   26.110001   25.660000   25.940001  0.039545\n",
       "2009-09-25   25.690001   25.820000   25.520000   25.549999  0.078788\n",
       "...                ...         ...         ...         ...       ...\n",
       "2020-05-24  183.190002  184.460007  182.539993  183.509995 -0.024881\n",
       "2020-05-25  183.190002  184.460007  182.539993  183.509995 -0.024881\n",
       "2020-05-26  186.339996  186.500000  181.100006  181.570007  0.150000\n",
       "2020-05-27  180.199997  181.990005  176.600006  181.809998  0.334091\n",
       "2020-05-28  180.740005  184.149994  180.380005  181.399994  0.125000\n",
       "\n",
       "[3903 rows x 5 columns]"
      ]
     },
     "execution_count": 14,
     "metadata": {},
     "output_type": "execute_result"
    }
   ],
   "source": [
    "df.columns = [['open', 'high', 'low','close','sentiment']]\n",
    "df"
   ]
  },
  {
   "cell_type": "code",
   "execution_count": 15,
   "metadata": {},
   "outputs": [],
   "source": [
    "from sklearn.preprocessing import MinMaxScaler\n",
    "sc = MinMaxScaler()"
   ]
  },
  {
   "cell_type": "code",
   "execution_count": 16,
   "metadata": {},
   "outputs": [],
   "source": [
    "data = sc.fit_transform(df)"
   ]
  },
  {
   "cell_type": "code",
   "execution_count": 18,
   "metadata": {},
   "outputs": [],
   "source": [
    "train_ind = int(0.6*len(df))\n",
    "val_ind = train_ind + int(0.2*len(df))\n",
    "train = data[:train_ind]\n",
    "val = data[train_ind:val_ind]\n",
    "test = data[val_ind:]"
   ]
  },
  {
   "cell_type": "code",
   "execution_count": 19,
   "metadata": {},
   "outputs": [
    {
     "data": {
      "text/plain": [
       "((2341, 5), (2341,))"
      ]
     },
     "execution_count": 19,
     "metadata": {},
     "output_type": "execute_result"
    }
   ],
   "source": [
    "xtrain,ytrain,xval,yval,xtest,ytest = train[:,:],train[:,3],val[:,:],val[:,3],test[:,:],test[:,3]\n",
    "xtrain.shape, ytrain.shape, "
   ]
  },
  {
   "cell_type": "code",
   "execution_count": 20,
   "metadata": {},
   "outputs": [],
   "source": [
    "lookback = 60\n",
    "n_features = 5\n",
    "train_len = len(xtrain) - lookback\n",
    "test_len = len(xtest) - lookback\n",
    "val_len = len(xval) - lookback"
   ]
  },
  {
   "cell_type": "code",
   "execution_count": 21,
   "metadata": {},
   "outputs": [
    {
     "name": "stdout",
     "output_type": "stream",
     "text": [
      "x_train (2281, 60, 5)\n",
      "y_train (2281,)\n"
     ]
    }
   ],
   "source": [
    "x_train = np.zeros((train_len, lookback, n_features))\n",
    "y_train = np.zeros((train_len))\n",
    "for i in range(train_len):\n",
    "    ytemp = i+lookback\n",
    "    x_train[i] = xtrain[i:ytemp]\n",
    "    y_train[i] = ytrain[ytemp]\n",
    "print(\"x_train\", x_train.shape)\n",
    "print(\"y_train\", y_train.shape)"
   ]
  },
  {
   "cell_type": "code",
   "execution_count": 22,
   "metadata": {},
   "outputs": [
    {
     "name": "stdout",
     "output_type": "stream",
     "text": [
      "x_val (720, 60, 5)\n",
      "y_val (720,)\n"
     ]
    }
   ],
   "source": [
    "x_val = np.zeros((val_len, lookback, n_features))\n",
    "y_val = np.zeros((val_len))\n",
    "for i in range(val_len):\n",
    "    ytemp = i+lookback\n",
    "    x_val[i] = xval[i:ytemp]\n",
    "    y_val[i] = yval[ytemp]\n",
    "print(\"x_val\", x_val.shape)\n",
    "print(\"y_val\", y_val.shape)\n"
   ]
  },
  {
   "cell_type": "code",
   "execution_count": 23,
   "metadata": {},
   "outputs": [
    {
     "name": "stdout",
     "output_type": "stream",
     "text": [
      "x_test (722, 60, 5)\n",
      "y_test (722,)\n"
     ]
    }
   ],
   "source": [
    "x_test = np.zeros((test_len, lookback, n_features))\n",
    "y_test = np.zeros((test_len))\n",
    "for i in range(test_len):\n",
    "    ytemp = i+lookback\n",
    "    x_test[i] = xtest[i:ytemp]\n",
    "    y_test[i] = ytest[ytemp]\n",
    "print(\"x_test\", x_test.shape)\n",
    "print(\"y_test\", y_test.shape)"
   ]
  },
  {
   "cell_type": "code",
   "execution_count": 24,
   "metadata": {},
   "outputs": [
    {
     "name": "stderr",
     "output_type": "stream",
     "text": [
      "Using TensorFlow backend.\n"
     ]
    }
   ],
   "source": [
    "from keras.models import Sequential, load_model\n",
    "from keras.layers.core import Dense, Activation, Dropout, Flatten\n",
    "from keras.layers import LSTM\n",
    "from keras.optimizers import Adam\n",
    "from time import time\n",
    "from keras.callbacks import EarlyStopping"
   ]
  },
  {
   "cell_type": "code",
   "execution_count": 41,
   "metadata": {},
   "outputs": [],
   "source": [
    "model = Sequential() \n",
    "model.add(LSTM(110,input_shape = (lookback, n_features), return_sequences=True))\n",
    "model.add(LSTM(100))\n",
    "model.add(Dense(1))"
   ]
  },
  {
   "cell_type": "code",
   "execution_count": 42,
   "metadata": {},
   "outputs": [],
   "source": [
    "model.compile(loss = 'mse', optimizer = 'adam')\n",
    "earlystop = EarlyStopping(monitor='val_loss', min_delta=0.0001, patience=80,  verbose=1, mode='min')"
   ]
  },
  {
   "cell_type": "code",
   "execution_count": 43,
   "metadata": {},
   "outputs": [
    {
     "name": "stdout",
     "output_type": "stream",
     "text": [
      "start: 0\n",
      "Train on 2281 samples, validate on 720 samples\n",
      "Epoch 1/50\n",
      "2281/2281 [==============================] - 6s 3ms/step - loss: 6.9105e-04 - val_loss: 0.0040\n",
      "Epoch 2/50\n",
      "2281/2281 [==============================] - 6s 2ms/step - loss: 8.8013e-04 - val_loss: 0.0020\n",
      "Epoch 3/50\n",
      "2281/2281 [==============================] - 7s 3ms/step - loss: 6.6458e-04 - val_loss: 0.0033\n",
      "Epoch 4/50\n",
      "2281/2281 [==============================] - 7s 3ms/step - loss: 4.9142e-04 - val_loss: 0.0037\n",
      "Epoch 5/50\n",
      "2281/2281 [==============================] - 7s 3ms/step - loss: 5.4553e-04 - val_loss: 0.0034\n",
      "Epoch 6/50\n",
      "2281/2281 [==============================] - 7s 3ms/step - loss: 6.0472e-04 - val_loss: 0.0056\n",
      "Epoch 7/50\n",
      "2281/2281 [==============================] - 6s 2ms/step - loss: 5.3491e-04 - val_loss: 0.0079\n",
      "Epoch 8/50\n",
      "2281/2281 [==============================] - 5s 2ms/step - loss: 5.1706e-04 - val_loss: 0.0064\n",
      "Epoch 9/50\n",
      "2281/2281 [==============================] - 8s 3ms/step - loss: 6.7321e-04 - val_loss: 0.0033\n",
      "Epoch 10/50\n",
      "2281/2281 [==============================] - 7s 3ms/step - loss: 0.0011 - val_loss: 0.0104\n",
      "Epoch 11/50\n",
      "2281/2281 [==============================] - 5s 2ms/step - loss: 0.0013 - val_loss: 0.0089\n",
      "Epoch 12/50\n",
      "2281/2281 [==============================] - 5s 2ms/step - loss: 0.0010 - val_loss: 0.0070\n",
      "Epoch 13/50\n",
      "2281/2281 [==============================] - 5s 2ms/step - loss: 7.2020e-04 - val_loss: 0.0026\n",
      "Epoch 14/50\n",
      "2281/2281 [==============================] - 5s 2ms/step - loss: 4.2449e-04 - val_loss: 3.9021e-04\n",
      "Epoch 15/50\n",
      "2281/2281 [==============================] - 6s 2ms/step - loss: 2.0264e-04 - val_loss: 9.7713e-04\n",
      "Epoch 16/50\n",
      "2281/2281 [==============================] - 6s 3ms/step - loss: 8.2804e-05 - val_loss: 0.0011\n",
      "Epoch 17/50\n",
      "2281/2281 [==============================] - 7s 3ms/step - loss: 4.2634e-05 - val_loss: 8.5279e-04\n",
      "Epoch 18/50\n",
      "2281/2281 [==============================] - 7s 3ms/step - loss: 4.7735e-05 - val_loss: 6.4240e-04\n",
      "Epoch 19/50\n",
      "2281/2281 [==============================] - 5s 2ms/step - loss: 3.4353e-05 - val_loss: 4.6894e-04\n",
      "Epoch 20/50\n",
      "2281/2281 [==============================] - 5s 2ms/step - loss: 3.4844e-05 - val_loss: 3.3587e-04\n",
      "Epoch 21/50\n",
      "2281/2281 [==============================] - 7s 3ms/step - loss: 3.0056e-05 - val_loss: 2.4004e-04\n",
      "Epoch 22/50\n",
      "2281/2281 [==============================] - 6s 3ms/step - loss: 2.8931e-05 - val_loss: 1.7000e-04\n",
      "Epoch 23/50\n",
      "2281/2281 [==============================] - 5s 2ms/step - loss: 2.7011e-05 - val_loss: 1.2215e-04\n",
      "Epoch 24/50\n",
      "2281/2281 [==============================] - 5s 2ms/step - loss: 2.5909e-05 - val_loss: 8.9693e-05\n",
      "Epoch 25/50\n",
      "2281/2281 [==============================] - 5s 2ms/step - loss: 2.4892e-05 - val_loss: 6.9038e-05\n",
      "Epoch 26/50\n",
      "2281/2281 [==============================] - 5s 2ms/step - loss: 2.4109e-05 - val_loss: 5.6548e-05\n",
      "Epoch 27/50\n",
      "2281/2281 [==============================] - 6s 2ms/step - loss: 2.3444e-05 - val_loss: 4.9614e-05\n",
      "Epoch 28/50\n",
      "2281/2281 [==============================] - 5s 2ms/step - loss: 2.2871e-05 - val_loss: 4.6166e-05\n",
      "Epoch 29/50\n",
      "2281/2281 [==============================] - 5s 2ms/step - loss: 2.2350e-05 - val_loss: 4.4684e-05\n",
      "Epoch 30/50\n",
      "2281/2281 [==============================] - 5s 2ms/step - loss: 2.1854e-05 - val_loss: 4.4084e-05\n",
      "Epoch 31/50\n",
      "2281/2281 [==============================] - 6s 2ms/step - loss: 2.1358e-05 - val_loss: 4.3640e-05\n",
      "Epoch 32/50\n",
      "2281/2281 [==============================] - 5s 2ms/step - loss: 2.0844e-05 - val_loss: 4.2926e-05\n",
      "Epoch 33/50\n",
      "2281/2281 [==============================] - 6s 2ms/step - loss: 2.0306e-05 - val_loss: 4.1777e-05\n",
      "Epoch 34/50\n",
      "2281/2281 [==============================] - 5s 2ms/step - loss: 1.9748e-05 - val_loss: 4.0265e-05\n",
      "Epoch 35/50\n",
      "2281/2281 [==============================] - 5s 2ms/step - loss: 1.9189e-05 - val_loss: 3.8629e-05\n",
      "Epoch 36/50\n",
      "2281/2281 [==============================] - 5s 2ms/step - loss: 1.8659e-05 - val_loss: 3.7138e-05\n",
      "Epoch 37/50\n",
      "2281/2281 [==============================] - 6s 3ms/step - loss: 1.8187e-05 - val_loss: 3.5931e-05\n",
      "Epoch 38/50\n",
      "2281/2281 [==============================] - 5s 2ms/step - loss: 1.7789e-05 - val_loss: 3.4977e-05\n",
      "Epoch 39/50\n",
      "2281/2281 [==============================] - 5s 2ms/step - loss: 1.7468e-05 - val_loss: 3.4168e-05\n",
      "Epoch 40/50\n",
      "2281/2281 [==============================] - 5s 2ms/step - loss: 1.7210e-05 - val_loss: 3.3425e-05\n",
      "Epoch 41/50\n",
      "2281/2281 [==============================] - 5s 2ms/step - loss: 1.7002e-05 - val_loss: 3.2727e-05\n",
      "Epoch 42/50\n",
      "2281/2281 [==============================] - 5s 2ms/step - loss: 1.6831e-05 - val_loss: 3.2091e-05\n",
      "Epoch 43/50\n",
      "2281/2281 [==============================] - 5s 2ms/step - loss: 1.6693e-05 - val_loss: 3.1545e-05\n",
      "Epoch 44/50\n",
      "2281/2281 [==============================] - 6s 3ms/step - loss: 1.6591e-05 - val_loss: 3.1092e-05\n",
      "Epoch 45/50\n",
      "2281/2281 [==============================] - 6s 3ms/step - loss: 1.6534e-05 - val_loss: 3.0700e-05\n",
      "Epoch 46/50\n",
      "2281/2281 [==============================] - 6s 2ms/step - loss: 1.6535e-05 - val_loss: 3.0316e-05\n",
      "Epoch 47/50\n",
      "2281/2281 [==============================] - 6s 3ms/step - loss: 1.6606e-05 - val_loss: 2.9930e-05\n",
      "Epoch 48/50\n",
      "2281/2281 [==============================] - 6s 2ms/step - loss: 1.6758e-05 - val_loss: 2.9661e-05\n",
      "Epoch 49/50\n",
      "2281/2281 [==============================] - 6s 2ms/step - loss: 1.6995e-05 - val_loss: 2.9837e-05\n",
      "Epoch 50/50\n",
      "2281/2281 [==============================] - 6s 2ms/step - loss: 1.7312e-05 - val_loss: 3.1000e-05\n",
      "end: 289.3950481414795\n"
     ]
    }
   ],
   "source": [
    "start = time()\n",
    "print(\"start:\",0)\n",
    "model.fit(x_train,y_train, epochs = 50, batch_size=30, \n",
    "          validation_data=(x_val,y_val),verbose = 1, \n",
    "          shuffle = False, callbacks=[earlystop])\n",
    "print(\"end:\",time()-start)"
   ]
  },
  {
   "cell_type": "code",
   "execution_count": 44,
   "metadata": {},
   "outputs": [
    {
     "data": {
      "image/png": "[encoded data removed]",
      "text/plain": [
       "<Figure size 432x288 with 1 Axes>"
      ]
     },
     "metadata": {
      "needs_background": "light"
     },
     "output_type": "display_data"
    }
   ],
   "source": [
    "loss = model.history.history\n",
    "loss = pd.DataFrame(loss)\n",
    "loss.to_csv(\"losses/model8.csv\")\n",
    "plt.plot(loss['loss'])\n",
    "plt.plot(loss['val_loss'])\n",
    "plt.savefig(\"losses/model8.png\")"
   ]
  },
  {
   "cell_type": "code",
   "execution_count": 46,
   "metadata": {},
   "outputs": [
    {
     "data": {
      "text/plain": [
       "[<matplotlib.lines.Line2D at 0x7fe300f50730>]"
      ]
     },
     "execution_count": 46,
     "metadata": {},
     "output_type": "execute_result"
    },
    {
     "data": {
      "image/png": "[encoded data removed]",
      "text/plain": [
       "<Figure size 1440x720 with 1 Axes>"
      ]
     },
     "metadata": {
      "needs_background": "light"
     },
     "output_type": "display_data"
    }
   ],
   "source": [
    "y_pred = model.predict(x_test)\n",
    "\n",
    "plt.figure(figsize=(20,10))\n",
    "plt.plot( y_test, '.-', color='red', label='Real values', alpha=0.5)\n",
    "plt.plot( y_pred, '.-', color='blue', label='Predicted values', alpha=1)"
   ]
  },
  {
   "cell_type": "code",
   "execution_count": 45,
   "metadata": {},
   "outputs": [],
   "source": [
    "model.save(\"stock_sentiment_8.h5\")"
   ]
  },
  {
   "cell_type": "code",
   "execution_count": 47,
   "metadata": {},
   "outputs": [
    {
     "name": "stdout",
     "output_type": "stream",
     "text": [
      "722/722 [==============================] - 0s 535us/step\n"
     ]
    },
    {
     "data": {
      "text/plain": [
       "0.0009942528015515996"
      ]
     },
     "execution_count": 47,
     "metadata": {},
     "output_type": "execute_result"
    }
   ],
   "source": [
    "model.evaluate(x_test, y_test)"
   ]
  },
  {
   "cell_type": "code",
   "execution_count": 53,
   "metadata": {},
   "outputs": [],
   "source": [
    "model1 = load_model(\"stock_sentiment_1.h5\")\n",
    "model11 = load_model(\"stock_sentiment_11.h5\")"
   ]
  },
  {
   "cell_type": "code",
   "execution_count": 50,
   "metadata": {},
   "outputs": [
    {
     "name": "stdout",
     "output_type": "stream",
     "text": [
      "722/722 [==============================] - 0s 547us/step\n"
     ]
    },
    {
     "data": {
      "text/plain": [
       "0.0014917453431067705"
      ]
     },
     "execution_count": 50,
     "metadata": {},
     "output_type": "execute_result"
    }
   ],
   "source": [
    "model1.evaluate(x_test,y_test)"
   ]
  },
  {
   "cell_type": "code",
   "execution_count": 51,
   "metadata": {},
   "outputs": [],
   "source": [
    "results_original = pd.read_csv(\"../stock_prediction/without_sentiment.csv\")"
   ]
  },
  {
   "cell_type": "code",
   "execution_count": 52,
   "metadata": {},
   "outputs": [
    {
     "data": {
      "text/html": [
       "<div>\n",
       "<style scoped>\n",
       "    .dataframe tbody tr th:only-of-type {\n",
       "        vertical-align: middle;\n",
       "    }\n",
       "\n",
       "    .dataframe tbody tr th {\n",
       "        vertical-align: top;\n",
       "    }\n",
       "\n",
       "    .dataframe thead th {\n",
       "        text-align: right;\n",
       "    }\n",
       "</style>\n",
       "<table border=\"1\" class=\"dataframe\">\n",
       "  <thead>\n",
       "    <tr style=\"text-align: right;\">\n",
       "      <th></th>\n",
       "      <th>Unnamed: 0</th>\n",
       "      <th>0</th>\n",
       "    </tr>\n",
       "  </thead>\n",
       "  <tbody>\n",
       "    <tr>\n",
       "      <th>0</th>\n",
       "      <td>0</td>\n",
       "      <td>0.000373</td>\n",
       "    </tr>\n",
       "    <tr>\n",
       "      <th>1</th>\n",
       "      <td>1</td>\n",
       "      <td>0.005508</td>\n",
       "    </tr>\n",
       "    <tr>\n",
       "      <th>2</th>\n",
       "      <td>2</td>\n",
       "      <td>0.001133</td>\n",
       "    </tr>\n",
       "    <tr>\n",
       "      <th>3</th>\n",
       "      <td>3</td>\n",
       "      <td>0.009937</td>\n",
       "    </tr>\n",
       "    <tr>\n",
       "      <th>4</th>\n",
       "      <td>4</td>\n",
       "      <td>0.004588</td>\n",
       "    </tr>\n",
       "    <tr>\n",
       "      <th>5</th>\n",
       "      <td>5</td>\n",
       "      <td>0.000835</td>\n",
       "    </tr>\n",
       "    <tr>\n",
       "      <th>6</th>\n",
       "      <td>6</td>\n",
       "      <td>0.013204</td>\n",
       "    </tr>\n",
       "    <tr>\n",
       "      <th>7</th>\n",
       "      <td>7</td>\n",
       "      <td>0.000327</td>\n",
       "    </tr>\n",
       "    <tr>\n",
       "      <th>8</th>\n",
       "      <td>8</td>\n",
       "      <td>0.005302</td>\n",
       "    </tr>\n",
       "    <tr>\n",
       "      <th>9</th>\n",
       "      <td>9</td>\n",
       "      <td>0.000360</td>\n",
       "    </tr>\n",
       "    <tr>\n",
       "      <th>10</th>\n",
       "      <td>10</td>\n",
       "      <td>0.000334</td>\n",
       "    </tr>\n",
       "  </tbody>\n",
       "</table>\n",
       "</div>"
      ],
      "text/plain": [
       "    Unnamed: 0         0\n",
       "0            0  0.000373\n",
       "1            1  0.005508\n",
       "2            2  0.001133\n",
       "3            3  0.009937\n",
       "4            4  0.004588\n",
       "5            5  0.000835\n",
       "6            6  0.013204\n",
       "7            7  0.000327\n",
       "8            8  0.005302\n",
       "9            9  0.000360\n",
       "10          10  0.000334"
      ]
     },
     "execution_count": 52,
     "metadata": {},
     "output_type": "execute_result"
    }
   ],
   "source": [
    "results_original"
   ]
  },
  {
   "cell_type": "code",
   "execution_count": 54,
   "metadata": {},
   "outputs": [
    {
     "name": "stdout",
     "output_type": "stream",
     "text": [
      "722/722 [==============================] - 0s 565us/step\n"
     ]
    },
    {
     "data": {
      "text/plain": [
       "0.0007189869612372813"
      ]
     },
     "execution_count": 54,
     "metadata": {},
     "output_type": "execute_result"
    }
   ],
   "source": [
    "model11.evaluate(x_test,y_test)"
   ]
  },
  {
   "cell_type": "code",
   "execution_count": null,
   "metadata": {},
   "outputs": [],
   "source": []
  }
 ],
 "metadata": {
  "kernelspec": {
   "display_name": "Python 3",
   "language": "python",
   "name": "python3"
  },
  "language_info": {
   "codemirror_mode": {
    "name": "ipython",
    "version": 3
   },
   "file_extension": ".py",
   "mimetype": "text/x-python",
   "name": "python",
   "nbconvert_exporter": "python",
   "pygments_lexer": "ipython3",
   "version": "3.8.3"
  }
 },
 "nbformat": 4,
 "nbformat_minor": 4
}
