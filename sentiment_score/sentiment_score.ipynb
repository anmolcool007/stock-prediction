{
 "cells": [
  {
   "cell_type": "code",
   "execution_count": 1,
   "metadata": {},
   "outputs": [],
   "source": [
    "import pandas as pd"
   ]
  },
  {
   "cell_type": "code",
   "execution_count": 8,
   "metadata": {},
   "outputs": [
    {
     "data": {
      "text/plain": [
       "0     microsoft show power intellig edge apply of bo...\n",
       "1                              what' top score? 😎🏄‍♀️ …\n",
       "2     the largest #ai model world change connect, co...\n",
       "3                                           troops. 😶 …\n",
       "4     Is organ look adopt #ai, face signify challeng...\n",
       "5     *turn background blur* \"just make sure import ...\n",
       "6     #projectbonsai first service common microsoft’...\n",
       "7      have ever play game microsoft minesweeper, lost?\n",
       "8           \"pure last email\" pick.twitter.com/mmyqxr8i\n",
       "9                                 take trip beach ⬇️🏖 …\n",
       "10    ♠️♥️ happy with microsoft solitary! ♣️♦️ help ...\n",
       "11    do know? microsoft solitary origin invent teac...\n",
       "12    develop bring behind-the-seen magic help compa...\n",
       "13    S U P E R C O M P U T E R P R O J E C T B O N ...\n",
       "14    Is first all-digit #build come close, think sh...\n",
       "15                         🔴🟢 🔵🟡 #build continues! ⬇️ …\n",
       "16    icy: He great one power supercomput world. lea...\n",
       "17    the largest of model world change connect, com...\n",
       "18             tell us: how food year #build? 🥪🍔🥙🥐🌮🍩🍪🍫🍜\n",
       "19    hey cool cat kitten - hope enjoy day 2 #build....\n",
       "Name: tweet, dtype: object"
      ]
     },
     "execution_count": 8,
     "metadata": {},
     "output_type": "execute_result"
    }
   ],
   "source": [
    "df = pd.read_csv(\"../preprocess/processed_tweets.csv\")\n",
    "df = df['tweet']\n",
    "df.head(20)"
   ]
  },
  {
   "cell_type": "code",
   "execution_count": null,
   "metadata": {},
   "outputs": [],
   "source": []
  }
 ],
 "metadata": {
  "kernelspec": {
   "display_name": "dl",
   "language": "python",
   "name": "dl"
  },
  "language_info": {
   "codemirror_mode": {
    "name": "ipython",
    "version": 3
   },
   "file_extension": ".py",
   "mimetype": "text/x-python",
   "name": "python",
   "nbconvert_exporter": "python",
   "pygments_lexer": "ipython3",
   "version": "3.8.3"
  }
 },
 "nbformat": 4,
 "nbformat_minor": 4
}
